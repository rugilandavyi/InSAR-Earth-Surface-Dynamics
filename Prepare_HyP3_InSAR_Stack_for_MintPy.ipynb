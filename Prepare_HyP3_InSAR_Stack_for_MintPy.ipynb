{
 "cells": [
  {
   "cell_type": "markdown",
   "metadata": {
    "hidePrompt": true
   },
   "source": [
    "<img src=\"NotebookAddons/blackboard-banner.png\" width=\"100%\" />\n",
    "\n",
    "# Preparing a HyP3 InSAR Stack for MintPy\n",
    
    " \n",
    "Based on [prep_hyp3_for_mintpy.ipynb](https://github.com/ASFHyP3/hyp3-docs) by Jiang Zhu; University of Alaska Fairbanks\n",
    "\n",
    "<img src=\"NotebookAddons/UAFLogo_A_647.png\" width=\"170\" align=\"right\" />\n",
    "\n",
    "**Important Note about JupyterHub**\n",
    "Your JupyterHub server will automatically shutdown when left idle for more than 1 hour. Your notebooks will not be lost but you will have to restart their kernels and re-run them from the beginning. You will not be able to seamlessly continue running a partially run notebook."
   ]
  },
  {
   "cell_type": "code",
   "execution_count": 46,
   "metadata": {},
   "outputs": [
    {
     "data": {
      "application/vnd.jupyter.widget-view+json": {
       "model_id": "cffbcbf3b13743bfa0749338a90e0184",
       "version_major": 2,
       "version_minor": 0
      },
      "text/plain": [
       "URLWidget()"
      ]
     },
     "metadata": {},
     "output_type": "display_data"
    }
   ],
   "source": [
    "import url_widget as url_w\n",
    "notebookUrl = url_w.URLWidget()\n",
    "display(notebookUrl)"
   ]
  },
  {
   "cell_type": "code",
   "execution_count": 47,
   "metadata": {},
   "outputs": [],
   "source": [
    "from IPython.display import Markdown\n",
    "from IPython.display import display\n",
    "\n",
    "notebookUrl = notebookUrl.value\n",
    "user = !echo $JUPYTERHUB_USER\n",
    "env = !echo $CONDA_PREFIX\n",
    "if env[0] == '':\n",
    "    env[0] = 'Python 3 (base)'\n",
    "if env[0] != '/home/jovyan/.local/envs/osl_mintpy':\n",
    "    display(Markdown(f'<text style=color:red><strong>WARNING:</strong></text>'))\n",
    "    display(Markdown(f'<text style=color:red>This notebook should be run using the \"osl_mintpy\" conda environment.</text>'))\n",
    "    display(Markdown(f'<text style=color:red>It is currently using the \"{env[0].split(\"/\")[-1]}\" environment.</text>'))\n",
    "    display(Markdown(f'<text style=color:red>Select the \"osl_mintpy\" from the \"Change Kernel\" submenu of the \"Kernel\" menu.</text>'))\n",
    "    display(Markdown(f'<text style=color:red>If the \"osl_mintpy\" environment is not present, use <a href=\"{notebookUrl.split(\"/user\")[0]}/user/{user[0]}/notebooks/conda_environments/Create_OSL_Conda_Environments.ipynb\"> Create_OSL_Conda_Environments.ipynb </a> to create it.</text>'))\n",
    "    display(Markdown(f'<text style=color:red>Note that you must restart your server after creating a new environment before it is usable by notebooks.</text>'))"
   ]
  },
  {
   "cell_type": "markdown",
   "metadata": {},
   "source": [
    "## 0. Importing Relevant Python Packages\n",
    "\n",
    "In this notebook we will use the following scientific libraries:\n",
    "- [GDAL](https://www.gdal.org/) is a software library for reading and writing raster and vector geospatial data formats. It includes a collection of programs tailored for geospatial data processing. Most modern GIS systems (such as ArcGIS or QGIS) use GDAL in the background.\n",
    "\n",
    "**Our first step is to import gdal and other needed packages**"
   ]
  },
  {
   "cell_type": "code",
   "execution_count": 48,
   "metadata": {},
   "outputs": [],
   "source": [
    "import copy\n",
    "from datetime import datetime, timedelta\n",
    "import ipywidgets as widgets\n",
    "from itertools import chain\n",
    "import json\n",
    "from pathlib import Path\n",
    "import re\n",
    "import requests\n",
    "import shutil\n",
    "from tqdm.auto import tqdm\n",
    "from typing import Union\n",
    "\n",
    "import numpy as np\n",
    "from osgeo import gdal\n",
    "gdal.UseExceptions()\n",
    "import pandas\n",
    "from rasterio.warp import transform_bounds\n",
    "\n",
    "import opensarlab_lib as asfn\n",
    "\n",
    "from hyp3_sdk import Batch, HyP3\n",
    "\n",
    "from IPython.display import clear_output\n",
    "\n",
    "%matplotlib widget"
   ]
  },
  {
   "cell_type": "markdown",
   "metadata": {},
   "source": [
    "## 1. Load Your Own Data Stack Into the Notebook\n",
    "\n",
    "This notebook assumes that you are accessing an InSAR time series created using the [Alaska Satellite Facility's](https://www.asf.alaska.edu/) value-added product system HyP3, available via [ASF Data Search/Vertex](https://search.asf.alaska.edu/). HyP3 is an ASF service used to prototype value added products and provide them to users to collect feedback.\n",
    "\n",
    "You can access HyP3 on-demand products from your HyP3 account or from publically available, pre-processed SARVIEWS Event data. https://sarviews-hazards.alaska.edu/\n",
    "\n",
    "Before downloading anything, create an analysis directory to hold your data.\n",
    "\n",
    "**Select or create a working directory for the analysis:**"
   ]
  },
  {
   "cell_type": "code",
   "execution_count": 49,
   "metadata": {},
   "outputs": [
    {
     "name": "stdout",
     "output_type": "stream",
     "text": [
      "Current working directory: /home/jovyan/notebooks/SAR_Training/English/Master\n"
     ]
    },
    {
     "name": "stdin",
     "output_type": "stream",
     "text": [
      "\n",
      "Please enter the name of a directory in which to store your data for this analysis. EasternCongoVolcano2021\n"
     ]
    },
    {
     "name": "stdout",
     "output_type": "stream",
     "text": [
      "\n",
      "********************** WARNING! **********************\n",
      "The directory EasternCongoVolcano2021 already exists and contains:\n",
      "• S1AA_20210829T162049_20210910T162050_VVP012_INT80_G_ueF_59F5\n",
      "• S1BA_20210224T162004_20210302T162041_VVP006_INT80_G_ueF_F103\n",
      "• S1AA_20210910T162050_20210922T162050_VVP012_INT80_G_ueF_A940\n",
      "• S1AB_20210206T162041_20210212T162004_VVP006_INT80_G_ueF_1E2F\n",
      "• S1AA_20210724T162047_20210805T162048_VVP012_INT80_G_ueF_1D77\n",
      "• S1AA_20210501T162042_20210513T162043_VVP012_INT80_G_ueF_C90F\n",
      "• S1BB_20211103T162013_20211115T162013_VVP012_INT80_G_ueF_9CF1\n",
      "• S1AA_20210125T162042_20210206T162041_VVP012_INT80_G_ueF_7F3E\n",
      "• S1BB_20211209T162012_20211221T162011_VVP012_INT80_G_ueF_8C0A\n",
      "• S1BB_20210401T162004_20210413T162004_VVP012_INT80_G_ueF_A7B2\n",
      "• S1BB_20210531T162007_20210612T162008_VVP012_INT80_G_ueF_0ED2\n",
      "• S1AB_20211109T162050_20211115T162013_VVP006_INT80_G_ueF_1989\n",
      "• S1BB_20210624T162008_20210706T162009_VVP012_INT80_G_ueF_6517\n",
      "• S1AA_20211215T162049_20211227T162048_VVP012_INT80_G_ueF_B5C3\n",
      "• S1BB_20210507T162005_20210519T162006_VVP012_INT80_G_ueF_4520\n",
      "• S1BA_20210916T162013_20210922T162050_VVP006_INT80_G_ueF_E85A\n",
      "• S1AB_20210125T162042_20210131T162004_VVP006_INT80_G_ueF_A54A\n",
      "• S1BB_20210904T162012_20210916T162013_VVP012_INT80_G_ueF_3E04\n",
      "• S1AA_20210805T162048_20210817T162049_VVP012_INT80_G_ueF_1193\n",
      "• S1BA_20210507T162005_20210513T162043_VVP006_INT80_G_ueF_B6EE\n",
      "• S1AB_20210630T162046_20210706T162009_VVP006_INT80_G_ueF_EDFA\n",
      "• S1BA_20210928T162013_20211004T162050_VVP006_INT80_G_ueF_1588\n",
      "• S1AB_20210618T162045_20210624T162008_VVP006_INT80_G_ueF_46E9\n",
      "• S1BB_20211022T162013_20211103T162013_VVP012_INT80_G_ueF_985D\n",
      "• S1AB_20210910T162050_20210916T162013_VVP006_INT80_G_ueF_FFBD\n",
      "• S1AB_20210101T162043_20210107T162005_VVP006_INT80_G_ueF_064A\n",
      "• S1AA_20210606T162044_20210618T162045_VVP012_INT80_G_ueF_42ED\n",
      "• S1AA_20210630T162046_20210712T162047_VVP012_INT80_G_ueF_2136\n",
      "• S1AB_20210513T162043_20210519T162006_VVP006_INT80_G_ueF_F654\n",
      "• S1AB_20210407T162041_20210413T162004_VVP006_INT80_G_ueF_FB68\n",
      "• S1AA_20210407T162041_20210419T162042_VVP012_INT80_G_ueF_1F1E\n",
      "• S1BB_20211115T162013_20211127T162012_VVP012_INT80_G_ueF_9A49\n",
      "• S1BB_20210107T162005_20210119T162004_VVP012_INT80_G_ueF_7A0B\n",
      "• S1AB_20210922T162050_20210928T162013_VVP006_INT80_G_ueF_76C3\n",
      "• S1BA_20210519T162006_20210525T162044_VVP006_INT80_G_ueF_5011\n",
      "• S1AA_20210419T162042_20210501T162042_VVP012_INT80_G_ueF_8783\n",
      "• S1BA_20210624T162008_20210630T162046_VVP006_INT80_G_ueF_6BF9\n",
      "• S1BA_20210107T162005_20210113T162042_VVP006_INT80_G_ueF_EE3D\n",
      "• S1BB_20210706T162009_20210718T162010_VVP012_INT80_G_ueF_D1D5\n",
      "• S1BA_20210730T162010_20210805T162048_VVP006_INT80_G_ueF_1BCA\n",
      "• S1AB_20211016T162051_20211022T162013_VVP006_INT80_G_ueF_4D58\n",
      "• S1BA_20211221T162011_20211227T162048_VVP006_INT80_G_ueF_C5D9\n",
      "• S1BA_20211022T162013_20211028T162050_VVP006_INT80_G_ueF_29D7\n",
      "• S1BB_20211127T162012_20211209T162012_VVP012_INT80_G_ueF_F3DC\n",
      "• S1BB_20210730T162010_20210811T162011_VVP012_INT80_G_ueF_952A\n",
      "• S1BA_20210718T162010_20210724T162047_VVP006_INT80_G_ueF_4CAD\n",
      "• S1AA_20210525T162044_20210606T162044_VVP012_INT80_G_ueF_C4B8\n",
      "• S1BB_20210119T162004_20210131T162004_VVP012_INT80_G_ueF_8593\n",
      "• S1AA_20211109T162050_20211121T162050_VVP012_INT80_G_ueF_C0B6\n",
      "• S1AB_20210525T162044_20210531T162007_VVP006_INT80_G_ueF_52FE\n",
      "• S1AB_20211121T162050_20211127T162012_VVP006_INT80_G_ueF_A026\n",
      "• S1AB_20210113T162042_20210119T162004_VVP006_INT80_G_ueF_F133\n",
      "• S1AA_20210712T162047_20210724T162047_VVP012_INT80_G_ueF_8DCE\n",
      "• S1AB_20211004T162050_20211010T162013_VVP006_INT80_G_ueF_AA2A\n",
      "• S1BA_20210811T162011_20210817T162049_VVP006_INT80_G_ueF_A073\n",
      "• S1BB_20210308T162004_20210320T162004_VVP012_INT80_G_ueF_72A3\n",
      "• S1BA_20210425T162005_20210501T162042_VVP006_INT80_G_ueF_1264\n",
      "• S1BA_20210904T162012_20210910T162050_VVP006_INT80_G_ueF_CDF0\n",
      "• S1AA_20210618T162045_20210630T162046_VVP012_INT80_G_ueF_0AE5\n",
      "• S1BB_20210131T162004_20210212T162004_VVP012_INT80_G_ueF_4EBF\n",
      "• S1AB_20211203T162049_20211209T162012_VVP006_INT80_G_ueF_74BE\n",
      "• S1AA_20210922T162050_20211004T162050_VVP012_INT80_G_ueF_324D\n",
      "• S1BA_20210823T162012_20210829T162049_VVP006_INT80_G_ueF_C9E8\n",
      "• S1BB_20210519T162006_20210531T162007_VVP012_INT80_G_ueF_9E89\n",
      "• S1BA_20210119T162004_20210125T162042_VVP006_INT80_G_ueF_B6DC\n",
      "• S1AA_20211016T162051_20211028T162050_VVP012_INT80_G_ueF_9718\n",
      "• S1BB_20210224T162004_20210308T162004_VVP012_INT80_G_ueF_B3DF\n",
      "• S1BA_20210320T162004_20210326T162041_VVP006_INT80_G_ueF_027B\n",
      "• S1AB_20210829T162049_20210904T162012_VVP006_INT80_G_ueF_FACA\n",
      "• S1AB_20210326T162041_20210401T162004_VVP006_INT80_G_ueF_3E53\n",
      "• S1BA_20210612T162008_20210618T162045_VVP006_INT80_G_ueF_742C\n",
      "• S1BA_20210706T162009_20210712T162047_VVP006_INT80_G_ueF_B4A4\n",
      "• S1AB_20210817T162049_20210823T162012_VVP006_INT80_G_ueF_AB6F\n",
      "• S1BB_20210811T162011_20210823T162012_VVP012_INT80_G_ueF_CCF4\n",
      "• S1BA_20210413T162004_20210419T162042_VVP006_INT80_G_ueF_BB5C\n",
      "• S1AB_20210805T162048_20210811T162011_VVP006_INT80_G_ueF_DD8B\n",
      "• S1BA_20210401T162004_20210407T162041_VVP006_INT80_G_ueF_4562\n",
      "• S1AB_20210724T162047_20210730T162010_VVP006_INT80_G_ueF_67C1\n",
      "• S1AB_20211215T162049_20211221T162011_VVP006_INT80_G_ueF_F2A4\n",
      "• S1AB_20211028T162050_20211103T162013_VVP006_INT80_G_ueF_A9ED\n",
      "• S1AA_20210513T162043_20210525T162044_VVP012_INT80_G_ueF_8AC8\n",
      "• S1BB_20210916T162013_20210928T162013_VVP012_INT80_G_ueF_F67D\n",
      "• S1AA_20211028T162050_20211109T162050_VVP012_INT80_G_ueF_DF04\n",
      "• S1AA_20210326T162041_20210407T162041_VVP012_INT80_G_ueF_1417\n",
      "• S1AA_20210817T162049_20210829T162049_VVP012_INT80_G_ueF_4140\n",
      "• S1AA_20211203T162049_20211215T162049_VVP012_INT80_G_ueF_F751\n",
      "• S1AA_20210218T162041_20210302T162041_VVP012_INT80_G_ueF_091D\n",
      "• S1BB_20210425T162005_20210507T162005_VVP012_INT80_G_ueF_EED9\n",
      "• S1AA_20210302T162041_20210314T162041_VVP012_INT80_G_ueF_7BF5\n",
      "• S1AB_20210712T162047_20210718T162010_VVP006_INT80_G_ueF_3D3B\n",
      "• S1BB_20210413T162004_20210425T162005_VVP012_INT80_G_ueF_6DE4\n",
      "• S1BA_20211127T162012_20211203T162049_VVP006_INT80_G_ueF_8845\n",
      "• S1BB_20210612T162008_20210624T162008_VVP012_INT80_G_ueF_6BE1\n",
      "• S1AA_20210101T162043_20210113T162042_VVP012_INT80_G_ueF_FAAE\n",
      "• S1BA_20211010T162013_20211016T162051_VVP006_INT80_G_ueF_6A6B\n",
      "• S1AA_20210113T162042_20210125T162042_VVP012_INT80_G_ueF_BD13\n",
      "• S1BB_20210928T162013_20211010T162013_VVP012_INT80_G_ueF_71B1\n",
      "• S1AA_20210314T162041_20210326T162041_VVP012_INT80_G_ueF_4D9B\n",
      "• S1BA_20211209T162012_20211215T162049_VVP006_INT80_G_ueF_3421\n",
      "• S1AB_20210419T162042_20210425T162005_VVP006_INT80_G_ueF_D6E8\n",
      "• S1BA_20210308T162004_20210314T162041_VVP006_INT80_G_ueF_5918\n",
      "• S1BA_20210212T162004_20210218T162041_VVP006_INT80_G_ueF_E963\n",
      "• MintPy\n",
      "• S1BB_20210823T162012_20210904T162012_VVP012_INT80_G_ueF_E546\n",
      "• S1AB_20210302T162041_20210308T162004_VVP006_INT80_G_ueF_7EB7\n",
      "• S1BA_20210531T162007_20210606T162044_VVP006_INT80_G_ueF_7927\n",
      "• S1BB_20210212T162004_20210224T162004_VVP012_INT80_G_ueF_A71D\n",
      "• S1AB_20210606T162044_20210612T162008_VVP006_INT80_G_ueF_44BA\n",
      "• S1AB_20210218T162041_20210224T162004_VVP006_INT80_G_ueF_DA31\n",
      "• S1AA_20211004T162050_20211016T162051_VVP012_INT80_G_ueF_529D\n",
      "• S1AB_20210314T162041_20210320T162004_VVP006_INT80_G_ueF_68D5\n",
      "• S1BA_20210131T162004_20210206T162041_VVP006_INT80_G_ueF_6EA8\n",
      "• S1AA_20210206T162041_20210218T162041_VVP012_INT80_G_ueF_0E08\n",
      "• S1BB_20210320T162004_20210401T162004_VVP012_INT80_G_ueF_4569\n",
      "• S1AA_20211121T162050_20211203T162049_VVP012_INT80_G_ueF_5EE1\n",
      "• S1BA_20211103T162013_20211109T162050_VVP006_INT80_G_ueF_524D\n",
      "• S1BB_20210718T162010_20210730T162010_VVP012_INT80_G_ueF_D35F\n",
      "• S1AB_20210501T162042_20210507T162005_VVP006_INT80_G_ueF_DC97\n",
      "• S1BB_20211010T162013_20211022T162013_VVP012_INT80_G_ueF_D4D5\n",
      "• S1BA_20211115T162013_20211121T162050_VVP006_INT80_G_ueF_C325\n",
      "\n",
      "\n",
      "[1] Delete old data and continue.\n",
      "[2] Save old data and add the data from this analysis to it.\n",
      "[3] Save old data and pick a different subdirectory name.\n"
     ]
    },
    {
     "ename": "KeyboardInterrupt",
     "evalue": "Interrupted by user",
     "output_type": "error",
     "traceback": [
      "\u001b[0;31m---------------------------------------------------------------------------\u001b[0m",
      "\u001b[0;31mKeyboardInterrupt\u001b[0m                         Traceback (most recent call last)",
      "Cell \u001b[0;32mIn[49], line 9\u001b[0m\n\u001b[1;32m      7\u001b[0m contents \u001b[38;5;241m=\u001b[39m data_dir\u001b[38;5;241m.\u001b[39mglob(\u001b[38;5;124m'\u001b[39m\u001b[38;5;124m*\u001b[39m\u001b[38;5;124m'\u001b[39m)\n\u001b[1;32m      8\u001b[0m \u001b[38;5;28;01mif\u001b[39;00m \u001b[38;5;28mlen\u001b[39m(\u001b[38;5;28mlist\u001b[39m(contents)) \u001b[38;5;241m>\u001b[39m \u001b[38;5;241m0\u001b[39m:\n\u001b[0;32m----> 9\u001b[0m     choice \u001b[38;5;241m=\u001b[39m \u001b[43masfn\u001b[49m\u001b[38;5;241;43m.\u001b[39;49m\u001b[43mhandle_old_data\u001b[49m\u001b[43m(\u001b[49m\u001b[43mdata_dir\u001b[49m\u001b[43m)\u001b[49m\n\u001b[1;32m     10\u001b[0m     \u001b[38;5;28;01mif\u001b[39;00m choice \u001b[38;5;241m==\u001b[39m \u001b[38;5;241m1\u001b[39m:\n\u001b[1;32m     11\u001b[0m         \u001b[38;5;28;01mif\u001b[39;00m data_dir\u001b[38;5;241m.\u001b[39mexists():\n",
      "File \u001b[0;32m~/.local/envs/osl_mintpy/lib/python3.9/site-packages/opensarlab_lib/util.py:89\u001b[0m, in \u001b[0;36mhandle_old_data\u001b[0;34m(data_dir)\u001b[0m\n\u001b[1;32m     87\u001b[0m \u001b[38;5;28;01mwhile\u001b[39;00m \u001b[38;5;28;01mTrue\u001b[39;00m:\n\u001b[1;32m     88\u001b[0m     \u001b[38;5;28;01mtry\u001b[39;00m:\n\u001b[0;32m---> 89\u001b[0m         selection \u001b[38;5;241m=\u001b[39m \u001b[38;5;28mint\u001b[39m(\u001b[38;5;28;43minput\u001b[39;49m\u001b[43m(\u001b[49m\u001b[38;5;124;43m\"\u001b[39;49m\u001b[38;5;124;43mSelect option 1, 2, or 3.\u001b[39;49m\u001b[38;5;130;43;01m\\n\u001b[39;49;00m\u001b[38;5;124;43m\"\u001b[39;49m\u001b[43m)\u001b[49m)\n\u001b[1;32m     90\u001b[0m     \u001b[38;5;28;01mexcept\u001b[39;00m \u001b[38;5;167;01mValueError\u001b[39;00m:\n\u001b[1;32m     91\u001b[0m         \u001b[38;5;28;01mcontinue\u001b[39;00m\n",
      "File \u001b[0;32m~/.local/envs/osl_mintpy/lib/python3.9/site-packages/ipykernel/kernelbase.py:1270\u001b[0m, in \u001b[0;36mKernel.raw_input\u001b[0;34m(self, prompt)\u001b[0m\n\u001b[1;32m   1268\u001b[0m     msg \u001b[38;5;241m=\u001b[39m \u001b[38;5;124m\"\u001b[39m\u001b[38;5;124mraw_input was called, but this frontend does not support input requests.\u001b[39m\u001b[38;5;124m\"\u001b[39m\n\u001b[1;32m   1269\u001b[0m     \u001b[38;5;28;01mraise\u001b[39;00m StdinNotImplementedError(msg)\n\u001b[0;32m-> 1270\u001b[0m \u001b[38;5;28;01mreturn\u001b[39;00m \u001b[38;5;28;43mself\u001b[39;49m\u001b[38;5;241;43m.\u001b[39;49m\u001b[43m_input_request\u001b[49m\u001b[43m(\u001b[49m\n\u001b[1;32m   1271\u001b[0m \u001b[43m    \u001b[49m\u001b[38;5;28;43mstr\u001b[39;49m\u001b[43m(\u001b[49m\u001b[43mprompt\u001b[49m\u001b[43m)\u001b[49m\u001b[43m,\u001b[49m\n\u001b[1;32m   1272\u001b[0m \u001b[43m    \u001b[49m\u001b[38;5;28;43mself\u001b[39;49m\u001b[38;5;241;43m.\u001b[39;49m\u001b[43m_parent_ident\u001b[49m\u001b[43m[\u001b[49m\u001b[38;5;124;43m\"\u001b[39;49m\u001b[38;5;124;43mshell\u001b[39;49m\u001b[38;5;124;43m\"\u001b[39;49m\u001b[43m]\u001b[49m\u001b[43m,\u001b[49m\n\u001b[1;32m   1273\u001b[0m \u001b[43m    \u001b[49m\u001b[38;5;28;43mself\u001b[39;49m\u001b[38;5;241;43m.\u001b[39;49m\u001b[43mget_parent\u001b[49m\u001b[43m(\u001b[49m\u001b[38;5;124;43m\"\u001b[39;49m\u001b[38;5;124;43mshell\u001b[39;49m\u001b[38;5;124;43m\"\u001b[39;49m\u001b[43m)\u001b[49m\u001b[43m,\u001b[49m\n\u001b[1;32m   1274\u001b[0m \u001b[43m    \u001b[49m\u001b[43mpassword\u001b[49m\u001b[38;5;241;43m=\u001b[39;49m\u001b[38;5;28;43;01mFalse\u001b[39;49;00m\u001b[43m,\u001b[49m\n\u001b[1;32m   1275\u001b[0m \u001b[43m\u001b[49m\u001b[43m)\u001b[49m\n",
      "File \u001b[0;32m~/.local/envs/osl_mintpy/lib/python3.9/site-packages/ipykernel/kernelbase.py:1313\u001b[0m, in \u001b[0;36mKernel._input_request\u001b[0;34m(self, prompt, ident, parent, password)\u001b[0m\n\u001b[1;32m   1310\u001b[0m \u001b[38;5;28;01mexcept\u001b[39;00m \u001b[38;5;167;01mKeyboardInterrupt\u001b[39;00m:\n\u001b[1;32m   1311\u001b[0m     \u001b[38;5;66;03m# re-raise KeyboardInterrupt, to truncate traceback\u001b[39;00m\n\u001b[1;32m   1312\u001b[0m     msg \u001b[38;5;241m=\u001b[39m \u001b[38;5;124m\"\u001b[39m\u001b[38;5;124mInterrupted by user\u001b[39m\u001b[38;5;124m\"\u001b[39m\n\u001b[0;32m-> 1313\u001b[0m     \u001b[38;5;28;01mraise\u001b[39;00m \u001b[38;5;167;01mKeyboardInterrupt\u001b[39;00m(msg) \u001b[38;5;28;01mfrom\u001b[39;00m \u001b[38;5;28;01mNone\u001b[39;00m\n\u001b[1;32m   1314\u001b[0m \u001b[38;5;28;01mexcept\u001b[39;00m \u001b[38;5;167;01mException\u001b[39;00m:\n\u001b[1;32m   1315\u001b[0m     \u001b[38;5;28mself\u001b[39m\u001b[38;5;241m.\u001b[39mlog\u001b[38;5;241m.\u001b[39mwarning(\u001b[38;5;124m\"\u001b[39m\u001b[38;5;124mInvalid Message:\u001b[39m\u001b[38;5;124m\"\u001b[39m, exc_info\u001b[38;5;241m=\u001b[39m\u001b[38;5;28;01mTrue\u001b[39;00m)\n",
      "\u001b[0;31mKeyboardInterrupt\u001b[0m: Interrupted by user"
     ]
    }
   ],
   "source": [
    "while True:\n",
    "    print(f\"Current working directory: {Path.cwd()}\")\n",
    "    data_dir = Path(input(f\"\\nPlease enter the name of a directory in which to store your data for this analysis.\"))\n",
    "    if data_dir == Path('.'):\n",
    "        continue\n",
    "    if data_dir.is_dir():\n",
    "        contents = data_dir.glob('*')\n",
    "        if len(list(contents)) > 0:\n",
    "            choice = asfn.handle_old_data(data_dir)\n",
    "            if choice == 1:\n",
    "                if data_dir.exists():\n",
    "                    shutil.rmtree(data_dir)\n",
    "                data_dir.mkdir()\n",
    "                break\n",
    "            elif choice == 2:\n",
    "                break\n",
    "            else:\n",
    "                clear_output()\n",
    "                continue\n",
    "        else:\n",
    "            break\n",
    "    else:\n",
    "        data_dir.mkdir()\n",
    "        break"
   ]
  },
  {
   "cell_type": "markdown",
   "metadata": {},
   "source": [
    "**Define absolute path to  analysis directory:**"
   ]
  },
  {
   "cell_type": "code",
   "execution_count": 50,
   "metadata": {},
   "outputs": [
    {
     "name": "stdout",
     "output_type": "stream",
     "text": [
      "analysis_directory: /home/jovyan/notebooks/SAR_Training/English/Master/EasternCongoVolcano2021\n"
     ]
    }
   ],
   "source": [
    "analysis_directory = Path.cwd()/(data_dir)\n",
    "print(f\"analysis_directory: {analysis_directory}\")"
   ]
  },
  {
   "cell_type": "code",
   "execution_count": 40,
   "metadata": {},
   "outputs": [],
   "source": [
    "def dates_from_product_name(product_name):\n",
    "    regex = \"[0-9]{8}T[0-9]{6}_[0-9]{8}T[0-9]{6}\"\n",
    "    results = re.search(regex, product_name)\n",
    "    if results:\n",
    "        return results.group(0)\n",
    "    else:\n",
    "        return None"
   ]
  },
  {
   "cell_type": "markdown",
   "metadata": {},
   "source": [
    "**Create a HyP3 object and authenticate:**"
   ]
  },
  {
   "cell_type": "code",
   "execution_count": 7,
   "metadata": {
    "slideshow": {
     "slide_type": "subslide"
    }
   },
   "outputs": [
    {
     "name": "stdin",
     "output_type": "stream",
     "text": [
      "NASA Earthdata Login username:  Rugilandavyi\n",
      "NASA Earthdata Login password:  ········\n"
     ]
    }
   ],
   "source": [
    "hyp3 = HyP3(prompt=True)"
   ]
  },
  {
   "cell_type": "markdown",
   "metadata": {},
   "source": [
    "**List projects containing active InSAR products and select one:**\n",
    "\n",
    "Your HyP3 InSAR project should include DEMs, which are available as options when submitting a HyP3 project"
   ]
  },
  {
   "cell_type": "code",
   "execution_count": 8,
   "metadata": {},
   "outputs": [
    {
     "name": "stdout",
     "output_type": "stream",
     "text": [
      "Checking all HyP3 projects for current INSAR_GAMMA jobs\n"
     ]
    },
    {
     "data": {
      "application/vnd.jupyter.widget-view+json": {
       "model_id": "5571cf6dba764bca9ffb8f90f953ebb1",
       "version_major": 2,
       "version_minor": 0
      },
      "text/plain": [
       "  0%|          | 0/2 [00:00<?, ?it/s]"
      ]
     },
     "metadata": {},
     "output_type": "display_data"
    },
    {
     "data": {
      "text/markdown": [
       "<text style='color:darkred;'>Note: After selecting a project, you must select the next cell before hitting the 'Run' button or typing Shift/Enter.</text>"
      ],
      "text/plain": [
       "<IPython.core.display.Markdown object>"
      ]
     },
     "metadata": {},
     "output_type": "display_data"
    },
    {
     "data": {
      "text/markdown": [
       "<text style='color:darkred;'>Otherwise, you will rerun this code cell.</text>"
      ],
      "text/plain": [
       "<IPython.core.display.Markdown object>"
      ]
     },
     "metadata": {},
     "output_type": "display_data"
    },
    {
     "name": "stdout",
     "output_type": "stream",
     "text": [
      "\n",
      "Select a Project:\n"
     ]
    },
    {
     "data": {
      "application/vnd.jupyter.widget-view+json": {
       "model_id": "1f1c0d2d919c465fad7ac9f79e07e5b7",
       "version_major": 2,
       "version_minor": 0
      },
      "text/plain": [
       "RadioButtons(layout=Layout(min_width='800px'), options=('Nyiragongo Volcano', 'Nyiragongo Volcano 2021'), valu…"
      ]
     },
     "metadata": {},
     "output_type": "display_data"
    }
   ],
   "source": [
    "my_hyp3_info = hyp3.my_info()\n",
    "active_projects = dict()\n",
    "\n",
    "print(\"Checking all HyP3 projects for current INSAR_GAMMA jobs\")\n",
    "for project in tqdm(my_hyp3_info['job_names']):\n",
    "    batch = Batch()\n",
    "    batch = hyp3.find_jobs(name=project, job_type='INSAR_GAMMA').filter_jobs(running=False, include_expired=False)\n",
    "    if len(batch) > 0:\n",
    "        active_projects.update({batch.jobs[0].name: batch})\n",
    "\n",
    "if len(active_projects) > 0:\n",
    "    display(Markdown(\"<text style='color:darkred;'>Note: After selecting a project, you must select the next cell before hitting the 'Run' button or typing Shift/Enter.</text>\"))\n",
    "    display(Markdown(\"<text style='color:darkred;'>Otherwise, you will rerun this code cell.</text>\"))\n",
    "    print('\\nSelect a Project:')\n",
    "    project_select = asfn.select_parameter(active_projects.keys())\n",
    "    display(project_select)\n",
    "else:\n",
    "    print(\"Found no active projects containing InSAR products\")"
   ]
  },
  {
   "cell_type": "markdown",
   "metadata": {},
   "source": [
    "**Select a date range of products to download:**"
   ]
  },
  {
   "cell_type": "code",
   "execution_count": 9,
   "metadata": {},
   "outputs": [
    {
     "data": {
      "text/markdown": [
       "<text style='color:darkred;'>Note: After selecting a date range, you should select the next cell before hitting the 'Run' button or typing Shift/Enter.</text>"
      ],
      "text/plain": [
       "<IPython.core.display.Markdown object>"
      ]
     },
     "metadata": {},
     "output_type": "display_data"
    },
    {
     "data": {
      "text/markdown": [
       "<text style='color:darkred;'>Otherwise, you may simply rerun this code cell.</text>"
      ],
      "text/plain": [
       "<IPython.core.display.Markdown object>"
      ]
     },
     "metadata": {},
     "output_type": "display_data"
    },
    {
     "name": "stdout",
     "output_type": "stream",
     "text": [
      "\n",
      "Select a Date Range:\n"
     ]
    },
    {
     "data": {
      "application/vnd.jupyter.widget-view+json": {
       "model_id": "61fc4e54e9c340759a5ef797ddbe269a",
       "version_major": 2,
       "version_minor": 0
      },
      "text/plain": [
       "SelectionRangeSlider(description='Dates', index=(0, 360), layout=Layout(width='500px'), options=((' 01/01/2021…"
      ]
     },
     "metadata": {},
     "output_type": "display_data"
    }
   ],
   "source": [
    "jobs = active_projects[project_select.value]\n",
    "\n",
    "display(Markdown(\"<text style='color:darkred;'>Note: After selecting a date range, you should select the next cell before hitting the 'Run' button or typing Shift/Enter.</text>\"))\n",
    "display(Markdown(\"<text style='color:darkred;'>Otherwise, you may simply rerun this code cell.</text>\"))\n",
    "print('\\nSelect a Date Range:')\n",
    "dates = asfn.get_job_dates(jobs)\n",
    "date_picker = asfn.gui_date_picker(dates)\n",
    "display(date_picker)"
   ]
  },
  {
   "cell_type": "markdown",
   "metadata": {},
   "source": [
    "**Save the selected date range and remove products falling outside of it:**"
   ]
  },
  {
   "cell_type": "code",
   "execution_count": 10,
   "metadata": {},
   "outputs": [
    {
     "name": "stdout",
     "output_type": "stream",
     "text": [
      "Date Range: 2021-01-01 to 2021-12-27\n"
     ]
    }
   ],
   "source": [
    "date_range = asfn.get_slider_vals(date_picker)\n",
    "date_range[0] = date_range[0].date()\n",
    "date_range[1] = date_range[1].date()\n",
    "print(f\"Date Range: {str(date_range[0])} to {str(date_range[1])}\")\n",
    "jobs = asfn.filter_jobs_by_date(jobs, date_range)"
   ]
  },
  {
   "cell_type": "markdown",
   "metadata": {},
   "source": [
    "**Gather the available paths and orbit directions for the remaining products:**"
   ]
  },
  {
   "cell_type": "code",
   "execution_count": 11,
   "metadata": {},
   "outputs": [
    {
     "data": {
      "text/markdown": [
       "<text style='color:darkred;'><text style='font-size:150%;'>This may take some time for projects containing many jobs...</text></text>"
      ],
      "text/plain": [
       "<IPython.core.display.Markdown object>"
      ]
     },
     "metadata": {},
     "output_type": "display_data"
    },
    {
     "data": {
      "text/markdown": [
       "<text style=color:blue><text style='font-size:175%;'>Done.</text></text>"
      ],
      "text/plain": [
       "<IPython.core.display.Markdown object>"
      ]
     },
     "metadata": {},
     "output_type": "display_data"
    }
   ],
   "source": [
    "display(Markdown(\"<text style='color:darkred;'><text style='font-size:150%;'>This may take some time for projects containing many jobs...</text></text>\"))\n",
    "asfn.set_paths_orbits(jobs)\n",
    "paths = set()\n",
    "orbit_directions = set()\n",
    "for p in jobs:\n",
    "    paths.add(p.path)\n",
    "    orbit_directions.add(p.orbit_direction)\n",
    "display(Markdown(f\"<text style=color:blue><text style='font-size:175%;'>Done.</text></text>\"))"
   ]
  },
  {
   "cell_type": "markdown",
   "metadata": {},
   "source": [
    "---\n",
    "**Select a path:**\n",
    "\n",
    "This notebook does not currently support merging InSAR products in multiple paths"
   ]
  },
  {
   "cell_type": "code",
   "execution_count": 12,
   "metadata": {},
   "outputs": [
    {
     "data": {
      "text/markdown": [
       "<text style='color:darkred;'>Note: After selecting a path, you must select the next cell before hitting the 'Run' button or typing Shift/Enter.</text>"
      ],
      "text/plain": [
       "<IPython.core.display.Markdown object>"
      ]
     },
     "metadata": {},
     "output_type": "display_data"
    },
    {
     "data": {
      "text/markdown": [
       "<text style='color:darkred;'>Otherwise, you will simply rerun this code cell.</text>"
      ],
      "text/plain": [
       "<IPython.core.display.Markdown object>"
      ]
     },
     "metadata": {},
     "output_type": "display_data"
    },
    {
     "name": "stdout",
     "output_type": "stream",
     "text": [
      "\n",
      "Select a Path:\n"
     ]
    },
    {
     "data": {
      "application/vnd.jupyter.widget-view+json": {
       "model_id": "a2b71361cde44408bb22f4a48a4a5253",
       "version_major": 2,
       "version_minor": 0
      },
      "text/plain": [
       "RadioButtons(layout=Layout(min_width='800px'), options=(174,), value=174)"
      ]
     },
     "metadata": {},
     "output_type": "display_data"
    }
   ],
   "source": [
    "display(Markdown(\"<text style='color:darkred;'>Note: After selecting a path, you must select the next cell before hitting the 'Run' button or typing Shift/Enter.</text>\"))\n",
    "display(Markdown(\"<text style='color:darkred;'>Otherwise, you will simply rerun this code cell.</text>\"))\n",
    "print('\\nSelect a Path:')\n",
    "path_choice = asfn.select_parameter(paths)\n",
    "display(path_choice)"
   ]
  },
  {
   "cell_type": "markdown",
   "metadata": {},
   "source": [
    "**Save the selected flight path/s:**"
   ]
  },
  {
   "cell_type": "code",
   "execution_count": 13,
   "metadata": {},
   "outputs": [
    {
     "name": "stdout",
     "output_type": "stream",
     "text": [
      "Flight Path: 174\n"
     ]
    }
   ],
   "source": [
    "flight_path = path_choice.value\n",
    "if flight_path:\n",
    "    if flight_path:\n",
    "        print(f\"Flight Path: {flight_path}\")\n",
    "    else:\n",
    "        print('Flight Path: All Paths')\n",
    "else:\n",
    "    print(\"WARNING: You must select a flight path in the previous cell, then rerun this cell.\")"
   ]
  },
  {
   "cell_type": "markdown",
   "metadata": {},
   "source": [
    "**Select an orbit direction:**"
   ]
  },
  {
   "cell_type": "code",
   "execution_count": 14,
   "metadata": {},
   "outputs": [
    {
     "name": "stdout",
     "output_type": "stream",
     "text": [
      "\n",
      "Select a Flight Direction:\n"
     ]
    },
    {
     "data": {
      "application/vnd.jupyter.widget-view+json": {
       "model_id": "616d230c4b5e4eaa9f7cb7d9556d6693",
       "version_major": 2,
       "version_minor": 0
      },
      "text/plain": [
       "RadioButtons(description='Direction:', layout=Layout(min_width='800px'), options=('ASCENDING',), value='ASCEND…"
      ]
     },
     "metadata": {},
     "output_type": "display_data"
    }
   ],
   "source": [
    "if len(orbit_directions) > 1:\n",
    "    display(Markdown(\"<text style='color:red;'>Note: After selecting a flight direction, you must select the next cell before hitting the 'Run' button or typing Shift/Enter.</text>\"))\n",
    "    display(Markdown(\"<text style='color:red;'>Otherwise, you will simply rerun this code cell.</text>\"))\n",
    "print('\\nSelect a Flight Direction:')\n",
    "direction_choice = asfn.select_parameter(orbit_directions, 'Direction:')\n",
    "display(direction_choice)"
   ]
  },
  {
   "cell_type": "markdown",
   "metadata": {},
   "source": [
    "**Save the selected orbit direction:**"
   ]
  },
  {
   "cell_type": "code",
   "execution_count": 15,
   "metadata": {},
   "outputs": [
    {
     "name": "stdout",
     "output_type": "stream",
     "text": [
      "Orbit Direction: ASCENDING\n"
     ]
    }
   ],
   "source": [
    "direction = direction_choice.value\n",
    "print(f\"Orbit Direction: {direction}\")"
   ]
  },
  {
   "cell_type": "markdown",
   "metadata": {},
   "source": [
    "**Filter jobs by path and orbit direction:**"
   ]
  },
  {
   "cell_type": "code",
   "execution_count": 17,
   "metadata": {},
   "outputs": [
    {
     "name": "stdout",
     "output_type": "stream",
     "text": [
      "There are 119 products to download.\n"
     ]
    }
   ],
   "source": [
    "jobs = asfn.filter_jobs_by_path(jobs, [flight_path])\n",
    "jobs = asfn.filter_jobs_by_orbit(jobs, direction)\n",
    "print(f\"There are {len(jobs)} products to download.\")"
   ]
  },
  {
   "cell_type": "markdown",
   "metadata": {},
   "source": [
    "**Download the products, unzip them into a directory named after the product type, and delete the zip files:**"
   ]
  },
  {
   "cell_type": "code",
   "execution_count": 18,
   "metadata": {
    "tags": []
   },
   "outputs": [
    {
     "name": "stdout",
     "output_type": "stream",
     "text": [
      "\n",
      "Project: Nyiragongo Volcano 2021\n"
     ]
    },
    {
     "data": {
      "application/vnd.jupyter.widget-view+json": {
       "model_id": "63272f76daec4aa6a6ac75c967545b8c",
       "version_major": 2,
       "version_minor": 0
      },
      "text/plain": [
       "  0%|          | 0/119 [00:00<?, ?it/s]"
      ]
     },
     "metadata": {},
     "output_type": "display_data"
    },
    {
     "data": {
      "application/vnd.jupyter.widget-view+json": {
       "model_id": "fdbc3c6ff2e94fbb9ba630d891a82e58",
       "version_major": 2,
       "version_minor": 0
      },
      "text/plain": [
       "S1AB_20211203T162049_20211209T162012_VVP006_INT80_G_ueF_74BE.zip:   0%|          | 0/179470428 [00:00<?, ?it/s…"
      ]
     },
     "metadata": {},
     "output_type": "display_data"
    },
    {
     "data": {
      "application/vnd.jupyter.widget-view+json": {
       "model_id": "8d587119f25d481cb7cfae8cc507b2ec",
       "version_major": 2,
       "version_minor": 0
      },
      "text/plain": [
       "S1AA_20211215T162049_20211227T162048_VVP012_INT80_G_ueF_B5C3.zip:   0%|          | 0/215766670 [00:00<?, ?it/s…"
      ]
     },
     "metadata": {},
     "output_type": "display_data"
    },
    {
     "data": {
      "application/vnd.jupyter.widget-view+json": {
       "model_id": "f618ec38f3ba47a39f3f373195aa85bb",
       "version_major": 2,
       "version_minor": 0
      },
      "text/plain": [
       "S1AB_20211028T162050_20211103T162013_VVP006_INT80_G_ueF_A9ED.zip:   0%|          | 0/179237229 [00:00<?, ?it/s…"
      ]
     },
     "metadata": {},
     "output_type": "display_data"
    },
    {
     "data": {
      "application/vnd.jupyter.widget-view+json": {
       "model_id": "c5e6277bbcf14107a1e52e3062d92d3c",
       "version_major": 2,
       "version_minor": 0
      },
      "text/plain": [
       "S1BA_20211221T162011_20211227T162048_VVP006_INT80_G_ueF_C5D9.zip:   0%|          | 0/179966049 [00:00<?, ?it/s…"
      ]
     },
     "metadata": {},
     "output_type": "display_data"
    },
    {
     "data": {
      "application/vnd.jupyter.widget-view+json": {
       "model_id": "cf996b35ca444fb6bbdb103828d20e8c",
       "version_major": 2,
       "version_minor": 0
      },
      "text/plain": [
       "S1AA_20211203T162049_20211215T162049_VVP012_INT80_G_ueF_F751.zip:   0%|          | 0/215173410 [00:00<?, ?it/s…"
      ]
     },
     "metadata": {},
     "output_type": "display_data"
    },
    {
     "data": {
      "application/vnd.jupyter.widget-view+json": {
       "model_id": "508e11f3a3874c979577df67bd0c24e3",
       "version_major": 2,
       "version_minor": 0
      },
      "text/plain": [
       "S1AA_20211109T162050_20211121T162050_VVP012_INT80_G_ueF_C0B6.zip:   0%|          | 0/214104776 [00:00<?, ?it/s…"
      ]
     },
     "metadata": {},
     "output_type": "display_data"
    },
    {
     "data": {
      "application/vnd.jupyter.widget-view+json": {
       "model_id": "3f3a66fe1b5a4497b67914746e5b122e",
       "version_major": 2,
       "version_minor": 0
      },
      "text/plain": [
       "S1AB_20211121T162050_20211127T162012_VVP006_INT80_G_ueF_A026.zip:   0%|          | 0/179234116 [00:00<?, ?it/s…"
      ]
     },
     "metadata": {},
     "output_type": "display_data"
    },
    {
     "data": {
      "application/vnd.jupyter.widget-view+json": {
       "model_id": "50a28f2b75b549e9ae58672f2f078696",
       "version_major": 2,
       "version_minor": 0
      },
      "text/plain": [
       "S1BB_20211209T162012_20211221T162011_VVP012_INT80_G_ueF_8C0A.zip:   0%|          | 0/222605085 [00:00<?, ?it/s…"
      ]
     },
     "metadata": {},
     "output_type": "display_data"
    },
    {
     "data": {
      "application/vnd.jupyter.widget-view+json": {
       "model_id": "a704cb4cb4a3459192120a34777f50f4",
       "version_major": 2,
       "version_minor": 0
      },
      "text/plain": [
       "S1BB_20211115T162013_20211127T162012_VVP012_INT80_G_ueF_9A49.zip:   0%|          | 0/221782168 [00:00<?, ?it/s…"
      ]
     },
     "metadata": {},
     "output_type": "display_data"
    },
    {
     "data": {
      "application/vnd.jupyter.widget-view+json": {
       "model_id": "987af89740294d27bb216f3d947e3c8d",
       "version_major": 2,
       "version_minor": 0
      },
      "text/plain": [
       "S1BA_20211103T162013_20211109T162050_VVP006_INT80_G_ueF_524D.zip:   0%|          | 0/180136306 [00:00<?, ?it/s…"
      ]
     },
     "metadata": {},
     "output_type": "display_data"
    },
    {
     "data": {
      "application/vnd.jupyter.widget-view+json": {
       "model_id": "0aebc6f400764fbbb17587340490b3e9",
       "version_major": 2,
       "version_minor": 0
      },
      "text/plain": [
       "S1BB_20211127T162012_20211209T162012_VVP012_INT80_G_ueF_F3DC.zip:   0%|          | 0/222422227 [00:00<?, ?it/s…"
      ]
     },
     "metadata": {},
     "output_type": "display_data"
    },
    {
     "data": {
      "application/vnd.jupyter.widget-view+json": {
       "model_id": "c0c69f2e27444a349b4738ab01cbde68",
       "version_major": 2,
       "version_minor": 0
      },
      "text/plain": [
       "S1AB_20211215T162049_20211221T162011_VVP006_INT80_G_ueF_F2A4.zip:   0%|          | 0/179862001 [00:00<?, ?it/s…"
      ]
     },
     "metadata": {},
     "output_type": "display_data"
    },
    {
     "data": {
      "application/vnd.jupyter.widget-view+json": {
       "model_id": "5cb5a51cf8654f109e4e703a99d70efe",
       "version_major": 2,
       "version_minor": 0
      },
      "text/plain": [
       "S1AB_20211109T162050_20211115T162013_VVP006_INT80_G_ueF_1989.zip:   0%|          | 0/179227850 [00:00<?, ?it/s…"
      ]
     },
     "metadata": {},
     "output_type": "display_data"
    },
    {
     "data": {
      "application/vnd.jupyter.widget-view+json": {
       "model_id": "073e21622a3c4f518eb646df79fe039e",
       "version_major": 2,
       "version_minor": 0
      },
      "text/plain": [
       "S1BA_20211115T162013_20211121T162050_VVP006_INT80_G_ueF_C325.zip:   0%|          | 0/180621524 [00:00<?, ?it/s…"
      ]
     },
     "metadata": {},
     "output_type": "display_data"
    },
    {
     "data": {
      "application/vnd.jupyter.widget-view+json": {
       "model_id": "9c902422422849b2b263268bf2faf2ff",
       "version_major": 2,
       "version_minor": 0
      },
      "text/plain": [
       "S1AA_20211028T162050_20211109T162050_VVP012_INT80_G_ueF_DF04.zip:   0%|          | 0/216316513 [00:00<?, ?it/s…"
      ]
     },
     "metadata": {},
     "output_type": "display_data"
    },
    {
     "data": {
      "application/vnd.jupyter.widget-view+json": {
       "model_id": "fee060fc24094bc0ad50665675ee8dc0",
       "version_major": 2,
       "version_minor": 0
      },
      "text/plain": [
       "S1BB_20211103T162013_20211115T162013_VVP012_INT80_G_ueF_9CF1.zip:   0%|          | 0/223621101 [00:00<?, ?it/s…"
      ]
     },
     "metadata": {},
     "output_type": "display_data"
    },
    {
     "data": {
      "application/vnd.jupyter.widget-view+json": {
       "model_id": "2e0ed43aa75d443e988547e7cd43993c",
       "version_major": 2,
       "version_minor": 0
      },
      "text/plain": [
       "S1BA_20211127T162012_20211203T162049_VVP006_INT80_G_ueF_8845.zip:   0%|          | 0/179252971 [00:00<?, ?it/s…"
      ]
     },
     "metadata": {},
     "output_type": "display_data"
    },
    {
     "data": {
      "application/vnd.jupyter.widget-view+json": {
       "model_id": "77ae7c97a22f4ea8a3bb99e23ac7c420",
       "version_major": 2,
       "version_minor": 0
      },
      "text/plain": [
       "S1AA_20211121T162050_20211203T162049_VVP012_INT80_G_ueF_5EE1.zip:   0%|          | 0/215895904 [00:00<?, ?it/s…"
      ]
     },
     "metadata": {},
     "output_type": "display_data"
    },
    {
     "data": {
      "application/vnd.jupyter.widget-view+json": {
       "model_id": "82233393c86746658a8f89a74935cf02",
       "version_major": 2,
       "version_minor": 0
      },
      "text/plain": [
       "S1BA_20211209T162012_20211215T162049_VVP006_INT80_G_ueF_3421.zip:   0%|          | 0/180344605 [00:00<?, ?it/s…"
      ]
     },
     "metadata": {},
     "output_type": "display_data"
    },
    {
     "data": {
      "application/vnd.jupyter.widget-view+json": {
       "model_id": "0530e40008004961a66136515cf74821",
       "version_major": 2,
       "version_minor": 0
      },
      "text/plain": [
       "S1AA_20210922T162050_20211004T162050_VVP012_INT80_G_ueF_324D.zip:   0%|          | 0/214638921 [00:00<?, ?it/s…"
      ]
     },
     "metadata": {},
     "output_type": "display_data"
    },
    {
     "data": {
      "application/vnd.jupyter.widget-view+json": {
       "model_id": "a1072f6fafcc409a90319391ea80cbca",
       "version_major": 2,
       "version_minor": 0
      },
      "text/plain": [
       "S1AB_20210829T162049_20210904T162012_VVP006_INT80_G_ueF_FACA.zip:   0%|          | 0/178792358 [00:00<?, ?it/s…"
      ]
     },
     "metadata": {},
     "output_type": "display_data"
    },
    {
     "data": {
      "application/vnd.jupyter.widget-view+json": {
       "model_id": "ad8292e611d343b0900c9bba5b1b42b4",
       "version_major": 2,
       "version_minor": 0
      },
      "text/plain": [
       "S1BA_20211010T162013_20211016T162051_VVP006_INT80_G_ueF_6A6B.zip:   0%|          | 0/179415044 [00:00<?, ?it/s…"
      ]
     },
     "metadata": {},
     "output_type": "display_data"
    },
    {
     "data": {
      "application/vnd.jupyter.widget-view+json": {
       "model_id": "8d05134b84a54cb8affa0dddcadc35e0",
       "version_major": 2,
       "version_minor": 0
      },
      "text/plain": [
       "S1AA_20211016T162051_20211028T162050_VVP012_INT80_G_ueF_9718.zip:   0%|          | 0/214332619 [00:00<?, ?it/s…"
      ]
     },
     "metadata": {},
     "output_type": "display_data"
    },
    {
     "data": {
      "application/vnd.jupyter.widget-view+json": {
       "model_id": "a2f80b4bf3b4405795340220945807c7",
       "version_major": 2,
       "version_minor": 0
      },
      "text/plain": [
       "S1BA_20210904T162012_20210910T162050_VVP006_INT80_G_ueF_CDF0.zip:   0%|          | 0/178260134 [00:00<?, ?it/s…"
      ]
     },
     "metadata": {},
     "output_type": "display_data"
    },
    {
     "data": {
      "application/vnd.jupyter.widget-view+json": {
       "model_id": "86db927ba42543828528e1cb4f234151",
       "version_major": 2,
       "version_minor": 0
      },
      "text/plain": [
       "S1AA_20210910T162050_20210922T162050_VVP012_INT80_G_ueF_A940.zip:   0%|          | 0/215013964 [00:00<?, ?it/s…"
      ]
     },
     "metadata": {},
     "output_type": "display_data"
    },
    {
     "data": {
      "application/vnd.jupyter.widget-view+json": {
       "model_id": "16fff191aec24d61843e1a184dabe4c1",
       "version_major": 2,
       "version_minor": 0
      },
      "text/plain": [
       "S1BB_20210904T162012_20210916T162013_VVP012_INT80_G_ueF_3E04.zip:   0%|          | 0/221482016 [00:00<?, ?it/s…"
      ]
     },
     "metadata": {},
     "output_type": "display_data"
    },
    {
     "data": {
      "application/vnd.jupyter.widget-view+json": {
       "model_id": "b2614064eb644ba3a561c543320316f9",
       "version_major": 2,
       "version_minor": 0
      },
      "text/plain": [
       "S1BA_20210928T162013_20211004T162050_VVP006_INT80_G_ueF_1588.zip:   0%|          | 0/179420736 [00:00<?, ?it/s…"
      ]
     },
     "metadata": {},
     "output_type": "display_data"
    },
    {
     "data": {
      "application/vnd.jupyter.widget-view+json": {
       "model_id": "cb21e4cd142944fb85689a449b494636",
       "version_major": 2,
       "version_minor": 0
      },
      "text/plain": [
       "S1AB_20211016T162051_20211022T162013_VVP006_INT80_G_ueF_4D58.zip:   0%|          | 0/179908448 [00:00<?, ?it/s…"
      ]
     },
     "metadata": {},
     "output_type": "display_data"
    },
    {
     "data": {
      "application/vnd.jupyter.widget-view+json": {
       "model_id": "e6d3dd0a2dbf41afbbbbf0ccd11dbd22",
       "version_major": 2,
       "version_minor": 0
      },
      "text/plain": [
       "S1BB_20210928T162013_20211010T162013_VVP012_INT80_G_ueF_71B1.zip:   0%|          | 0/222672712 [00:00<?, ?it/s…"
      ]
     },
     "metadata": {},
     "output_type": "display_data"
    },
    {
     "data": {
      "application/vnd.jupyter.widget-view+json": {
       "model_id": "35d6c815c9524c418ebd56aeb5d738ce",
       "version_major": 2,
       "version_minor": 0
      },
      "text/plain": [
       "S1AA_20211004T162050_20211016T162051_VVP012_INT80_G_ueF_529D.zip:   0%|          | 0/214300014 [00:00<?, ?it/s…"
      ]
     },
     "metadata": {},
     "output_type": "display_data"
    },
    {
     "data": {
      "application/vnd.jupyter.widget-view+json": {
       "model_id": "98ae295732134ccf91d6a7e120b2f231",
       "version_major": 2,
       "version_minor": 0
      },
      "text/plain": [
       "S1BA_20211022T162013_20211028T162050_VVP006_INT80_G_ueF_29D7.zip:   0%|          | 0/179503538 [00:00<?, ?it/s…"
      ]
     },
     "metadata": {},
     "output_type": "display_data"
    },
    {
     "data": {
      "application/vnd.jupyter.widget-view+json": {
       "model_id": "0970c97a46d04596bf5252f7c67995f1",
       "version_major": 2,
       "version_minor": 0
      },
      "text/plain": [
       "S1BB_20211022T162013_20211103T162013_VVP012_INT80_G_ueF_985D.zip:   0%|          | 0/222132530 [00:00<?, ?it/s…"
      ]
     },
     "metadata": {},
     "output_type": "display_data"
    },
    {
     "data": {
      "application/vnd.jupyter.widget-view+json": {
       "model_id": "8607e9ce35574d8d9b58e18ca6a32e32",
       "version_major": 2,
       "version_minor": 0
      },
      "text/plain": [
       "S1BB_20210916T162013_20210928T162013_VVP012_INT80_G_ueF_F67D.zip:   0%|          | 0/222823226 [00:00<?, ?it/s…"
      ]
     },
     "metadata": {},
     "output_type": "display_data"
    },
    {
     "data": {
      "application/vnd.jupyter.widget-view+json": {
       "model_id": "3eca002870a54ab283e4d9deee374b4a",
       "version_major": 2,
       "version_minor": 0
      },
      "text/plain": [
       "S1AB_20210922T162050_20210928T162013_VVP006_INT80_G_ueF_76C3.zip:   0%|          | 0/179944806 [00:00<?, ?it/s…"
      ]
     },
     "metadata": {},
     "output_type": "display_data"
    },
    {
     "data": {
      "application/vnd.jupyter.widget-view+json": {
       "model_id": "96336559df9b4c81b692a8d20171a3d6",
       "version_major": 2,
       "version_minor": 0
      },
      "text/plain": [
       "S1BB_20211010T162013_20211022T162013_VVP012_INT80_G_ueF_D4D5.zip:   0%|          | 0/223091101 [00:00<?, ?it/s…"
      ]
     },
     "metadata": {},
     "output_type": "display_data"
    },
    {
     "data": {
      "application/vnd.jupyter.widget-view+json": {
       "model_id": "5060df7afe504112a1a47dc52d1efeef",
       "version_major": 2,
       "version_minor": 0
      },
      "text/plain": [
       "S1AB_20211004T162050_20211010T162013_VVP006_INT80_G_ueF_AA2A.zip:   0%|          | 0/179536354 [00:00<?, ?it/s…"
      ]
     },
     "metadata": {},
     "output_type": "display_data"
    },
    {
     "data": {
      "application/vnd.jupyter.widget-view+json": {
       "model_id": "6ff6937ce2ba48aca686b986568de86f",
       "version_major": 2,
       "version_minor": 0
      },
      "text/plain": [
       "S1BA_20210916T162013_20210922T162050_VVP006_INT80_G_ueF_E85A.zip:   0%|          | 0/179300293 [00:00<?, ?it/s…"
      ]
     },
     "metadata": {},
     "output_type": "display_data"
    },
    {
     "data": {
      "application/vnd.jupyter.widget-view+json": {
       "model_id": "f9d66f4cac3c48c4ac70c1658e5493b7",
       "version_major": 2,
       "version_minor": 0
      },
      "text/plain": [
       "S1AA_20210829T162049_20210910T162050_VVP012_INT80_G_ueF_59F5.zip:   0%|          | 0/213973128 [00:00<?, ?it/s…"
      ]
     },
     "metadata": {},
     "output_type": "display_data"
    },
    {
     "data": {
      "application/vnd.jupyter.widget-view+json": {
       "model_id": "c41743823d7646e587c90779513c6a10",
       "version_major": 2,
       "version_minor": 0
      },
      "text/plain": [
       "S1AB_20210910T162050_20210916T162013_VVP006_INT80_G_ueF_FFBD.zip:   0%|          | 0/179406083 [00:00<?, ?it/s…"
      ]
     },
     "metadata": {},
     "output_type": "display_data"
    },
    {
     "data": {
      "application/vnd.jupyter.widget-view+json": {
       "model_id": "e0998a9e51954cf9aae06e01435d2280",
       "version_major": 2,
       "version_minor": 0
      },
      "text/plain": [
       "S1AA_20210630T162046_20210712T162047_VVP012_INT80_G_ueF_2136.zip:   0%|          | 0/213429492 [00:00<?, ?it/s…"
      ]
     },
     "metadata": {},
     "output_type": "display_data"
    },
    {
     "data": {
      "application/vnd.jupyter.widget-view+json": {
       "model_id": "eea95ff242f04a348f9fa5a9e25087a9",
       "version_major": 2,
       "version_minor": 0
      },
      "text/plain": [
       "S1BA_20210706T162009_20210712T162047_VVP006_INT80_G_ueF_B4A4.zip:   0%|          | 0/179015829 [00:00<?, ?it/s…"
      ]
     },
     "metadata": {},
     "output_type": "display_data"
    },
    {
     "data": {
      "application/vnd.jupyter.widget-view+json": {
       "model_id": "c532db025c63447fac85f0f9bb62d0a2",
       "version_major": 2,
       "version_minor": 0
      },
      "text/plain": [
       "S1BB_20210706T162009_20210718T162010_VVP012_INT80_G_ueF_D1D5.zip:   0%|          | 0/221733025 [00:00<?, ?it/s…"
      ]
     },
     "metadata": {},
     "output_type": "display_data"
    },
    {
     "data": {
      "application/vnd.jupyter.widget-view+json": {
       "model_id": "339203215f39432f899f21425493d798",
       "version_major": 2,
       "version_minor": 0
      },
      "text/plain": [
       "S1AA_20210805T162048_20210817T162049_VVP012_INT80_G_ueF_1193.zip:   0%|          | 0/214615506 [00:00<?, ?it/s…"
      ]
     },
     "metadata": {},
     "output_type": "display_data"
    },
    {
     "data": {
      "application/vnd.jupyter.widget-view+json": {
       "model_id": "7b187e0b89404d90884ec2b4837586fc",
       "version_major": 2,
       "version_minor": 0
      },
      "text/plain": [
       "S1BA_20210823T162012_20210829T162049_VVP006_INT80_G_ueF_C9E8.zip:   0%|          | 0/178630102 [00:00<?, ?it/s…"
      ]
     },
     "metadata": {},
     "output_type": "display_data"
    },
    {
     "data": {
      "application/vnd.jupyter.widget-view+json": {
       "model_id": "ed70110c281f4c81b1e27790b6e52f7e",
       "version_major": 2,
       "version_minor": 0
      },
      "text/plain": [
       "S1BA_20210811T162011_20210817T162049_VVP006_INT80_G_ueF_A073.zip:   0%|          | 0/180484725 [00:00<?, ?it/s…"
      ]
     },
     "metadata": {},
     "output_type": "display_data"
    },
    {
     "data": {
      "application/vnd.jupyter.widget-view+json": {
       "model_id": "9fd4e480662d48adb66bf54267c01bd3",
       "version_major": 2,
       "version_minor": 0
      },
      "text/plain": [
       "S1AA_20210712T162047_20210724T162047_VVP012_INT80_G_ueF_8DCE.zip:   0%|          | 0/213192411 [00:00<?, ?it/s…"
      ]
     },
     "metadata": {},
     "output_type": "display_data"
    },
    {
     "data": {
      "application/vnd.jupyter.widget-view+json": {
       "model_id": "4941dd01275f45a2a50ef83808c6c94d",
       "version_major": 2,
       "version_minor": 0
      },
      "text/plain": [
       "S1BB_20210718T162010_20210730T162010_VVP012_INT80_G_ueF_D35F.zip:   0%|          | 0/221302313 [00:00<?, ?it/s…"
      ]
     },
     "metadata": {},
     "output_type": "display_data"
    },
    {
     "data": {
      "application/vnd.jupyter.widget-view+json": {
       "model_id": "f3fc4bb2b17843f8803685ca6b6beda7",
       "version_major": 2,
       "version_minor": 0
      },
      "text/plain": [
       "S1BB_20210730T162010_20210811T162011_VVP012_INT80_G_ueF_952A.zip:   0%|          | 0/222454295 [00:00<?, ?it/s…"
      ]
     },
     "metadata": {},
     "output_type": "display_data"
    },
    {
     "data": {
      "application/vnd.jupyter.widget-view+json": {
       "model_id": "c70a940a34f54608b1f4b08772dac741",
       "version_major": 2,
       "version_minor": 0
      },
      "text/plain": [
       "S1AB_20210712T162047_20210718T162010_VVP006_INT80_G_ueF_3D3B.zip:   0%|          | 0/179250824 [00:00<?, ?it/s…"
      ]
     },
     "metadata": {},
     "output_type": "display_data"
    },
    {
     "data": {
      "application/vnd.jupyter.widget-view+json": {
       "model_id": "339712d29a1c4613b6368ea9a4cee86e",
       "version_major": 2,
       "version_minor": 0
      },
      "text/plain": [
       "S1AB_20210630T162046_20210706T162009_VVP006_INT80_G_ueF_EDFA.zip:   0%|          | 0/179184405 [00:00<?, ?it/s…"
      ]
     },
     "metadata": {},
     "output_type": "display_data"
    },
    {
     "data": {
      "application/vnd.jupyter.widget-view+json": {
       "model_id": "f457fb60418244e3b3734842bd989bef",
       "version_major": 2,
       "version_minor": 0
      },
      "text/plain": [
       "S1BA_20210730T162010_20210805T162048_VVP006_INT80_G_ueF_1BCA.zip:   0%|          | 0/179613740 [00:00<?, ?it/s…"
      ]
     },
     "metadata": {},
     "output_type": "display_data"
    },
    {
     "data": {
      "application/vnd.jupyter.widget-view+json": {
       "model_id": "7a9f7e2045a043839e9022467b4447d4",
       "version_major": 2,
       "version_minor": 0
      },
      "text/plain": [
       "S1AB_20210817T162049_20210823T162012_VVP006_INT80_G_ueF_AB6F.zip:   0%|          | 0/179252327 [00:00<?, ?it/s…"
      ]
     },
     "metadata": {},
     "output_type": "display_data"
    },
    {
     "data": {
      "application/vnd.jupyter.widget-view+json": {
       "model_id": "068890299ef5437db89b281f89f77340",
       "version_major": 2,
       "version_minor": 0
      },
      "text/plain": [
       "S1AA_20210817T162049_20210829T162049_VVP012_INT80_G_ueF_4140.zip:   0%|          | 0/213300810 [00:00<?, ?it/s…"
      ]
     },
     "metadata": {},
     "output_type": "display_data"
    },
    {
     "data": {
      "application/vnd.jupyter.widget-view+json": {
       "model_id": "edc3d4a17aa94c098819ce860f3df48e",
       "version_major": 2,
       "version_minor": 0
      },
      "text/plain": [
       "S1BA_20210718T162010_20210724T162047_VVP006_INT80_G_ueF_4CAD.zip:   0%|          | 0/178543866 [00:00<?, ?it/s…"
      ]
     },
     "metadata": {},
     "output_type": "display_data"
    },
    {
     "data": {
      "application/vnd.jupyter.widget-view+json": {
       "model_id": "d46a0f09766948dc9a086e9e25a87d41",
       "version_major": 2,
       "version_minor": 0
      },
      "text/plain": [
       "S1BB_20210823T162012_20210904T162012_VVP012_INT80_G_ueF_E546.zip:   0%|          | 0/221997933 [00:00<?, ?it/s…"
      ]
     },
     "metadata": {},
     "output_type": "display_data"
    },
    {
     "data": {
      "application/vnd.jupyter.widget-view+json": {
       "model_id": "c3a0d526c24947748938bf8bd58df608",
       "version_major": 2,
       "version_minor": 0
      },
      "text/plain": [
       "S1AA_20210724T162047_20210805T162048_VVP012_INT80_G_ueF_1D77.zip:   0%|          | 0/214411892 [00:00<?, ?it/s…"
      ]
     },
     "metadata": {},
     "output_type": "display_data"
    },
    {
     "data": {
      "application/vnd.jupyter.widget-view+json": {
       "model_id": "d99bc976865947f6b03ec034748c04f8",
       "version_major": 2,
       "version_minor": 0
      },
      "text/plain": [
       "S1BB_20210811T162011_20210823T162012_VVP012_INT80_G_ueF_CCF4.zip:   0%|          | 0/223166881 [00:00<?, ?it/s…"
      ]
     },
     "metadata": {},
     "output_type": "display_data"
    },
    {
     "data": {
      "application/vnd.jupyter.widget-view+json": {
       "model_id": "62366a9efdb94f9b937f31dcb53ce9bf",
       "version_major": 2,
       "version_minor": 0
      },
      "text/plain": [
       "S1AB_20210724T162047_20210730T162010_VVP006_INT80_G_ueF_67C1.zip:   0%|          | 0/177858920 [00:00<?, ?it/s…"
      ]
     },
     "metadata": {},
     "output_type": "display_data"
    },
    {
     "data": {
      "application/vnd.jupyter.widget-view+json": {
       "model_id": "071a4ed897dc455590cba1a3ceb2a9d1",
       "version_major": 2,
       "version_minor": 0
      },
      "text/plain": [
       "S1AB_20210805T162048_20210811T162011_VVP006_INT80_G_ueF_DD8B.zip:   0%|          | 0/180582084 [00:00<?, ?it/s…"
      ]
     },
     "metadata": {},
     "output_type": "display_data"
    },
    {
     "data": {
      "application/vnd.jupyter.widget-view+json": {
       "model_id": "e76c85a1f792427a959313631bb119e1",
       "version_major": 2,
       "version_minor": 0
      },
      "text/plain": [
       "S1BB_20210624T162008_20210706T162009_VVP012_INT80_G_ueF_6517.zip:   0%|          | 0/223057193 [00:00<?, ?it/s…"
      ]
     },
     "metadata": {},
     "output_type": "display_data"
    },
    {
     "data": {
      "application/vnd.jupyter.widget-view+json": {
       "model_id": "ec4646a191af498e8a911da0ec76d496",
       "version_major": 2,
       "version_minor": 0
      },
      "text/plain": [
       "S1BB_20210507T162005_20210519T162006_VVP012_INT80_G_ueF_4520.zip:   0%|          | 0/222987174 [00:00<?, ?it/s…"
      ]
     },
     "metadata": {},
     "output_type": "display_data"
    },
    {
     "data": {
      "application/vnd.jupyter.widget-view+json": {
       "model_id": "3adfca7065f74b65bee4d3b1fce865db",
       "version_major": 2,
       "version_minor": 0
      },
      "text/plain": [
       "S1AA_20210618T162045_20210630T162046_VVP012_INT80_G_ueF_0AE5.zip:   0%|          | 0/213891627 [00:00<?, ?it/s…"
      ]
     },
     "metadata": {},
     "output_type": "display_data"
    },
    {
     "data": {
      "application/vnd.jupyter.widget-view+json": {
       "model_id": "e5ba9a0259cb4aea9d763b27f54bdbe8",
       "version_major": 2,
       "version_minor": 0
      },
      "text/plain": [
       "S1BA_20210519T162006_20210525T162044_VVP006_INT80_G_ueF_5011.zip:   0%|          | 0/179876869 [00:00<?, ?it/s…"
      ]
     },
     "metadata": {},
     "output_type": "display_data"
    },
    {
     "data": {
      "application/vnd.jupyter.widget-view+json": {
       "model_id": "3301b2a2bc3140e68bdec1a04df8ea2d",
       "version_major": 2,
       "version_minor": 0
      },
      "text/plain": [
       "S1BB_20210612T162008_20210624T162008_VVP012_INT80_G_ueF_6BE1.zip:   0%|          | 0/222803247 [00:00<?, ?it/s…"
      ]
     },
     "metadata": {},
     "output_type": "display_data"
    },
    {
     "data": {
      "application/vnd.jupyter.widget-view+json": {
       "model_id": "1684deb34a5c4ba382503f0b45f41ea8",
       "version_major": 2,
       "version_minor": 0
      },
      "text/plain": [
       "S1BA_20210531T162007_20210606T162044_VVP006_INT80_G_ueF_7927.zip:   0%|          | 0/180180320 [00:00<?, ?it/s…"
      ]
     },
     "metadata": {},
     "output_type": "display_data"
    },
    {
     "data": {
      "application/vnd.jupyter.widget-view+json": {
       "model_id": "2582fb98167f4424a99d2129845d00d2",
       "version_major": 2,
       "version_minor": 0
      },
      "text/plain": [
       "S1AA_20210525T162044_20210606T162044_VVP012_INT80_G_ueF_C4B8.zip:   0%|          | 0/213839204 [00:00<?, ?it/s…"
      ]
     },
     "metadata": {},
     "output_type": "display_data"
    },
    {
     "data": {
      "application/vnd.jupyter.widget-view+json": {
       "model_id": "8ec168bb570745cf8230caa4f8a83064",
       "version_major": 2,
       "version_minor": 0
      },
      "text/plain": [
       "S1BA_20210507T162005_20210513T162043_VVP006_INT80_G_ueF_B6EE.zip:   0%|          | 0/180109987 [00:00<?, ?it/s…"
      ]
     },
     "metadata": {},
     "output_type": "display_data"
    },
    {
     "data": {
      "application/vnd.jupyter.widget-view+json": {
       "model_id": "cf07087e9656427dab2a8e2aed16538a",
       "version_major": 2,
       "version_minor": 0
      },
      "text/plain": [
       "S1BB_20210531T162007_20210612T162008_VVP012_INT80_G_ueF_0ED2.zip:   0%|          | 0/222558766 [00:00<?, ?it/s…"
      ]
     },
     "metadata": {},
     "output_type": "display_data"
    },
    {
     "data": {
      "application/vnd.jupyter.widget-view+json": {
       "model_id": "013d37e1e48b4524af5c319b4e9f444e",
       "version_major": 2,
       "version_minor": 0
      },
      "text/plain": [
       "S1AA_20210501T162042_20210513T162043_VVP012_INT80_G_ueF_C90F.zip:   0%|          | 0/215416650 [00:00<?, ?it/s…"
      ]
     },
     "metadata": {},
     "output_type": "display_data"
    },
    {
     "data": {
      "application/vnd.jupyter.widget-view+json": {
       "model_id": "50d4840d72394914b151146828dffef9",
       "version_major": 2,
       "version_minor": 0
      },
      "text/plain": [
       "S1AB_20210513T162043_20210519T162006_VVP006_INT80_G_ueF_F654.zip:   0%|          | 0/179853963 [00:00<?, ?it/s…"
      ]
     },
     "metadata": {},
     "output_type": "display_data"
    },
    {
     "data": {
      "application/vnd.jupyter.widget-view+json": {
       "model_id": "078b658c51e9441e899489b008a0d5f1",
       "version_major": 2,
       "version_minor": 0
      },
      "text/plain": [
       "S1AB_20210606T162044_20210612T162008_VVP006_INT80_G_ueF_44BA.zip:   0%|          | 0/178832044 [00:00<?, ?it/s…"
      ]
     },
     "metadata": {},
     "output_type": "display_data"
    },
    {
     "data": {
      "application/vnd.jupyter.widget-view+json": {
       "model_id": "e70704ac38ce439e84f10de33557a330",
       "version_major": 2,
       "version_minor": 0
      },
      "text/plain": [
       "S1AA_20210513T162043_20210525T162044_VVP012_INT80_G_ueF_8AC8.zip:   0%|          | 0/215721227 [00:00<?, ?it/s…"
      ]
     },
     "metadata": {},
     "output_type": "display_data"
    },
    {
     "data": {
      "application/vnd.jupyter.widget-view+json": {
       "model_id": "e34f15a5ccac4c76a226c6002dee6dc4",
       "version_major": 2,
       "version_minor": 0
      },
      "text/plain": [
       "S1AA_20210606T162044_20210618T162045_VVP012_INT80_G_ueF_42ED.zip:   0%|          | 0/214610729 [00:00<?, ?it/s…"
      ]
     },
     "metadata": {},
     "output_type": "display_data"
    },
    {
     "data": {
      "application/vnd.jupyter.widget-view+json": {
       "model_id": "e7845f63ba1f47c788cc97e8cb51066e",
       "version_major": 2,
       "version_minor": 0
      },
      "text/plain": [
       "S1BA_20210612T162008_20210618T162045_VVP006_INT80_G_ueF_742C.zip:   0%|          | 0/179455186 [00:00<?, ?it/s…"
      ]
     },
     "metadata": {},
     "output_type": "display_data"
    },
    {
     "data": {
      "application/vnd.jupyter.widget-view+json": {
       "model_id": "379216ecfc84493db692ed01d4d6982e",
       "version_major": 2,
       "version_minor": 0
      },
      "text/plain": [
       "S1AB_20210501T162042_20210507T162005_VVP006_INT80_G_ueF_DC97.zip:   0%|          | 0/180985132 [00:00<?, ?it/s…"
      ]
     },
     "metadata": {},
     "output_type": "display_data"
    },
    {
     "data": {
      "application/vnd.jupyter.widget-view+json": {
       "model_id": "d5bbad95b0404b15bfa0ef7b4689ea4c",
       "version_major": 2,
       "version_minor": 0
      },
      "text/plain": [
       "S1BB_20210519T162006_20210531T162007_VVP012_INT80_G_ueF_9E89.zip:   0%|          | 0/222778154 [00:00<?, ?it/s…"
      ]
     },
     "metadata": {},
     "output_type": "display_data"
    },
    {
     "data": {
      "application/vnd.jupyter.widget-view+json": {
       "model_id": "ffe8c90822724ee98e64d86b1729255b",
       "version_major": 2,
       "version_minor": 0
      },
      "text/plain": [
       "S1AB_20210618T162045_20210624T162008_VVP006_INT80_G_ueF_46E9.zip:   0%|          | 0/178923837 [00:00<?, ?it/s…"
      ]
     },
     "metadata": {},
     "output_type": "display_data"
    },
    {
     "data": {
      "application/vnd.jupyter.widget-view+json": {
       "model_id": "7a740e0ddf934789ba7df0ad6415a7fc",
       "version_major": 2,
       "version_minor": 0
      },
      "text/plain": [
       "S1BA_20210624T162008_20210630T162046_VVP006_INT80_G_ueF_6BF9.zip:   0%|          | 0/178547195 [00:00<?, ?it/s…"
      ]
     },
     "metadata": {},
     "output_type": "display_data"
    },
    {
     "data": {
      "application/vnd.jupyter.widget-view+json": {
       "model_id": "5420fa3bd7f44ec7b38b73e707a258dc",
       "version_major": 2,
       "version_minor": 0
      },
      "text/plain": [
       "S1AB_20210525T162044_20210531T162007_VVP006_INT80_G_ueF_52FE.zip:   0%|          | 0/179285027 [00:00<?, ?it/s…"
      ]
     },
     "metadata": {},
     "output_type": "display_data"
    },
    {
     "data": {
      "application/vnd.jupyter.widget-view+json": {
       "model_id": "be67fbd339274167b107166b6f238a3f",
       "version_major": 2,
       "version_minor": 0
      },
      "text/plain": [
       "S1AB_20210419T162042_20210425T162005_VVP006_INT80_G_ueF_D6E8.zip:   0%|          | 0/181080297 [00:00<?, ?it/s…"
      ]
     },
     "metadata": {},
     "output_type": "display_data"
    },
    {
     "data": {
      "application/vnd.jupyter.widget-view+json": {
       "model_id": "ec827a01716b4325a4d9b38b86d754e3",
       "version_major": 2,
       "version_minor": 0
      },
      "text/plain": [
       "S1AA_20210407T162041_20210419T162042_VVP012_INT80_G_ueF_1F1E.zip:   0%|          | 0/216159076 [00:00<?, ?it/s…"
      ]
     },
     "metadata": {},
     "output_type": "display_data"
    },
    {
     "data": {
      "application/vnd.jupyter.widget-view+json": {
       "model_id": "ba15402c106847ca9949c814059e3146",
       "version_major": 2,
       "version_minor": 0
      },
      "text/plain": [
       "S1AA_20210326T162041_20210407T162041_VVP012_INT80_G_ueF_1417.zip:   0%|          | 0/215592371 [00:00<?, ?it/s…"
      ]
     },
     "metadata": {},
     "output_type": "display_data"
    },
    {
     "data": {
      "application/vnd.jupyter.widget-view+json": {
       "model_id": "9a71916c8ec04d7ca0135a4f4b9ec7ea",
       "version_major": 2,
       "version_minor": 0
      },
      "text/plain": [
       "S1BA_20210413T162004_20210419T162042_VVP006_INT80_G_ueF_BB5C.zip:   0%|          | 0/180472944 [00:00<?, ?it/s…"
      ]
     },
     "metadata": {},
     "output_type": "display_data"
    },
    {
     "data": {
      "application/vnd.jupyter.widget-view+json": {
       "model_id": "83b1cbb59a384a87b26015fec1120009",
       "version_major": 2,
       "version_minor": 0
      },
      "text/plain": [
       "S1BA_20210425T162005_20210501T162042_VVP006_INT80_G_ueF_1264.zip:   0%|          | 0/181099666 [00:00<?, ?it/s…"
      ]
     },
     "metadata": {},
     "output_type": "display_data"
    },
    {
     "data": {
      "application/vnd.jupyter.widget-view+json": {
       "model_id": "d4c3dea328024300b797cd314befcb4d",
       "version_major": 2,
       "version_minor": 0
      },
      "text/plain": [
       "S1AA_20210302T162041_20210314T162041_VVP012_INT80_G_ueF_7BF5.zip:   0%|          | 0/214065021 [00:00<?, ?it/s…"
      ]
     },
     "metadata": {},
     "output_type": "display_data"
    },
    {
     "data": {
      "application/vnd.jupyter.widget-view+json": {
       "model_id": "bb088c3b3e8347dda93c637ac1f0b901",
       "version_major": 2,
       "version_minor": 0
      },
      "text/plain": [
       "S1AA_20210314T162041_20210326T162041_VVP012_INT80_G_ueF_4D9B.zip:   0%|          | 0/215260974 [00:00<?, ?it/s…"
      ]
     },
     "metadata": {},
     "output_type": "display_data"
    },
    {
     "data": {
      "application/vnd.jupyter.widget-view+json": {
       "model_id": "134d3b2df8544a6a86eb88674a6cb150",
       "version_major": 2,
       "version_minor": 0
      },
      "text/plain": [
       "S1BB_20210425T162005_20210507T162005_VVP012_INT80_G_ueF_EED9.zip:   0%|          | 0/222356840 [00:00<?, ?it/s…"
      ]
     },
     "metadata": {},
     "output_type": "display_data"
    },
    {
     "data": {
      "application/vnd.jupyter.widget-view+json": {
       "model_id": "8d2d7ea158754d239fc2d2703f7e2253",
       "version_major": 2,
       "version_minor": 0
      },
      "text/plain": [
       "S1BB_20210401T162004_20210413T162004_VVP012_INT80_G_ueF_A7B2.zip:   0%|          | 0/223913197 [00:00<?, ?it/s…"
      ]
     },
     "metadata": {},
     "output_type": "display_data"
    },
    {
     "data": {
      "application/vnd.jupyter.widget-view+json": {
       "model_id": "5f8c87f0324047b782800b684039d815",
       "version_major": 2,
       "version_minor": 0
      },
      "text/plain": [
       "S1BA_20210320T162004_20210326T162041_VVP006_INT80_G_ueF_027B.zip:   0%|          | 0/180143871 [00:00<?, ?it/s…"
      ]
     },
     "metadata": {},
     "output_type": "display_data"
    },
    {
     "data": {
      "application/vnd.jupyter.widget-view+json": {
       "model_id": "e43a1d41a6494ac9b4dd2f20fa74bd6d",
       "version_major": 2,
       "version_minor": 0
      },
      "text/plain": [
       "S1AB_20210326T162041_20210401T162004_VVP006_INT80_G_ueF_3E53.zip:   0%|          | 0/180636944 [00:00<?, ?it/s…"
      ]
     },
     "metadata": {},
     "output_type": "display_data"
    },
    {
     "data": {
      "application/vnd.jupyter.widget-view+json": {
       "model_id": "e07bbcb7d81e4b4abbd8379091e4ac8b",
       "version_major": 2,
       "version_minor": 0
      },
      "text/plain": [
       "S1BA_20210401T162004_20210407T162041_VVP006_INT80_G_ueF_4562.zip:   0%|          | 0/180765309 [00:00<?, ?it/s…"
      ]
     },
     "metadata": {},
     "output_type": "display_data"
    },
    {
     "data": {
      "application/vnd.jupyter.widget-view+json": {
       "model_id": "93f35c0d0fba4d3682d404bae3abdde4",
       "version_major": 2,
       "version_minor": 0
      },
      "text/plain": [
       "S1BB_20210320T162004_20210401T162004_VVP012_INT80_G_ueF_4569.zip:   0%|          | 0/223497686 [00:00<?, ?it/s…"
      ]
     },
     "metadata": {},
     "output_type": "display_data"
    },
    {
     "data": {
      "application/vnd.jupyter.widget-view+json": {
       "model_id": "702360d216124b1a884531551f7a2220",
       "version_major": 2,
       "version_minor": 0
      },
      "text/plain": [
       "S1AA_20210419T162042_20210501T162042_VVP012_INT80_G_ueF_8783.zip:   0%|          | 0/215735791 [00:00<?, ?it/s…"
      ]
     },
     "metadata": {},
     "output_type": "display_data"
    },
    {
     "data": {
      "application/vnd.jupyter.widget-view+json": {
       "model_id": "990bd2b174d946369eef02a668b3e610",
       "version_major": 2,
       "version_minor": 0
      },
      "text/plain": [
       "S1BA_20210308T162004_20210314T162041_VVP006_INT80_G_ueF_5918.zip:   0%|          | 0/179661820 [00:00<?, ?it/s…"
      ]
     },
     "metadata": {},
     "output_type": "display_data"
    },
    {
     "data": {
      "application/vnd.jupyter.widget-view+json": {
       "model_id": "bb6d618d86414ceab36e703f9ef57885",
       "version_major": 2,
       "version_minor": 0
      },
      "text/plain": [
       "S1AB_20210407T162041_20210413T162004_VVP006_INT80_G_ueF_FB68.zip:   0%|          | 0/179748675 [00:00<?, ?it/s…"
      ]
     },
     "metadata": {},
     "output_type": "display_data"
    },
    {
     "data": {
      "application/vnd.jupyter.widget-view+json": {
       "model_id": "8fc842846b2249f4ab18265caf28d534",
       "version_major": 2,
       "version_minor": 0
      },
      "text/plain": [
       "S1BB_20210308T162004_20210320T162004_VVP012_INT80_G_ueF_72A3.zip:   0%|          | 0/222017398 [00:00<?, ?it/s…"
      ]
     },
     "metadata": {},
     "output_type": "display_data"
    },
    {
     "data": {
      "application/vnd.jupyter.widget-view+json": {
       "model_id": "3fb97d68b2734325bb2c3165b9bde3ac",
       "version_major": 2,
       "version_minor": 0
      },
      "text/plain": [
       "S1AB_20210314T162041_20210320T162004_VVP006_INT80_G_ueF_68D5.zip:   0%|          | 0/179320690 [00:00<?, ?it/s…"
      ]
     },
     "metadata": {},
     "output_type": "display_data"
    },
    {
     "data": {
      "application/vnd.jupyter.widget-view+json": {
       "model_id": "9040f7eda70a4eb6bb5243bd2a2bcbf9",
       "version_major": 2,
       "version_minor": 0
      },
      "text/plain": [
       "S1BB_20210413T162004_20210425T162005_VVP012_INT80_G_ueF_6DE4.zip:   0%|          | 0/222967100 [00:00<?, ?it/s…"
      ]
     },
     "metadata": {},
     "output_type": "display_data"
    },
    {
     "data": {
      "application/vnd.jupyter.widget-view+json": {
       "model_id": "6a87b9a76e5f4880aa365ce1be0409a7",
       "version_major": 2,
       "version_minor": 0
      },
      "text/plain": [
       "S1AB_20210302T162041_20210308T162004_VVP006_INT80_G_ueF_7EB7.zip:   0%|          | 0/179585638 [00:00<?, ?it/s…"
      ]
     },
     "metadata": {},
     "output_type": "display_data"
    },
    {
     "data": {
      "application/vnd.jupyter.widget-view+json": {
       "model_id": "b2d2d7c51c5d49cba9bd8d3fc434b917",
       "version_major": 2,
       "version_minor": 0
      },
      "text/plain": [
       "S1BA_20210107T162005_20210113T162042_VVP006_INT80_G_ueF_EE3D.zip:   0%|          | 0/181080211 [00:00<?, ?it/s…"
      ]
     },
     "metadata": {},
     "output_type": "display_data"
    },
    {
     "data": {
      "application/vnd.jupyter.widget-view+json": {
       "model_id": "72c33d3b914f43bca047137be0a6823a",
       "version_major": 2,
       "version_minor": 0
      },
      "text/plain": [
       "S1BA_20210224T162004_20210302T162041_VVP006_INT80_G_ueF_F103.zip:   0%|          | 0/180520081 [00:00<?, ?it/s…"
      ]
     },
     "metadata": {},
     "output_type": "display_data"
    },
    {
     "data": {
      "application/vnd.jupyter.widget-view+json": {
       "model_id": "c106856d3ee04087bd0ef4dc90df5d88",
       "version_major": 2,
       "version_minor": 0
      },
      "text/plain": [
       "S1BB_20210131T162004_20210212T162004_VVP012_INT80_G_ueF_4EBF.zip:   0%|          | 0/220833753 [00:00<?, ?it/s…"
      ]
     },
     "metadata": {},
     "output_type": "display_data"
    },
    {
     "data": {
      "application/vnd.jupyter.widget-view+json": {
       "model_id": "91afd515b1dc4d3b85502f1558640793",
       "version_major": 2,
       "version_minor": 0
      },
      "text/plain": [
       "S1BA_20210131T162004_20210206T162041_VVP006_INT80_G_ueF_6EA8.zip:   0%|          | 0/177493648 [00:00<?, ?it/s…"
      ]
     },
     "metadata": {},
     "output_type": "display_data"
    },
    {
     "data": {
      "application/vnd.jupyter.widget-view+json": {
       "model_id": "c4c12072942443f989b5fb0b72658348",
       "version_major": 2,
       "version_minor": 0
      },
      "text/plain": [
       "S1AA_20210206T162041_20210218T162041_VVP012_INT80_G_ueF_0E08.zip:   0%|          | 0/215402468 [00:00<?, ?it/s…"
      ]
     },
     "metadata": {},
     "output_type": "display_data"
    },
    {
     "data": {
      "application/vnd.jupyter.widget-view+json": {
       "model_id": "c2ea3fa6e1554842a92dc4f02039f183",
       "version_major": 2,
       "version_minor": 0
      },
      "text/plain": [
       "S1AA_20210218T162041_20210302T162041_VVP012_INT80_G_ueF_091D.zip:   0%|          | 0/215373569 [00:00<?, ?it/s…"
      ]
     },
     "metadata": {},
     "output_type": "display_data"
    },
    {
     "data": {
      "application/vnd.jupyter.widget-view+json": {
       "model_id": "2e48c35d8d344e11a0f1c08163b31e5e",
       "version_major": 2,
       "version_minor": 0
      },
      "text/plain": [
       "S1AB_20210218T162041_20210224T162004_VVP006_INT80_G_ueF_DA31.zip:   0%|          | 0/179623227 [00:00<?, ?it/s…"
      ]
     },
     "metadata": {},
     "output_type": "display_data"
    },
    {
     "data": {
      "application/vnd.jupyter.widget-view+json": {
       "model_id": "5f663ba774ba40f6ab35e71f5ccab907",
       "version_major": 2,
       "version_minor": 0
      },
      "text/plain": [
       "S1BA_20210212T162004_20210218T162041_VVP006_INT80_G_ueF_E963.zip:   0%|          | 0/180396986 [00:00<?, ?it/s…"
      ]
     },
     "metadata": {},
     "output_type": "display_data"
    },
    {
     "data": {
      "application/vnd.jupyter.widget-view+json": {
       "model_id": "e2499ea97e9940dc80ca5f6d587bb237",
       "version_major": 2,
       "version_minor": 0
      },
      "text/plain": [
       "S1BB_20210212T162004_20210224T162004_VVP012_INT80_G_ueF_A71D.zip:   0%|          | 0/221879251 [00:00<?, ?it/s…"
      ]
     },
     "metadata": {},
     "output_type": "display_data"
    },
    {
     "data": {
      "application/vnd.jupyter.widget-view+json": {
       "model_id": "dc848801003b45568d51058a285c8310",
       "version_major": 2,
       "version_minor": 0
      },
      "text/plain": [
       "S1AB_20210101T162043_20210107T162005_VVP006_INT80_G_ueF_064A.zip:   0%|          | 0/180754292 [00:00<?, ?it/s…"
      ]
     },
     "metadata": {},
     "output_type": "display_data"
    },
    {
     "data": {
      "application/vnd.jupyter.widget-view+json": {
       "model_id": "e816fc3296c0481ab4e11700fab97783",
       "version_major": 2,
       "version_minor": 0
      },
      "text/plain": [
       "S1AA_20210125T162042_20210206T162041_VVP012_INT80_G_ueF_7F3E.zip:   0%|          | 0/214626577 [00:00<?, ?it/s…"
      ]
     },
     "metadata": {},
     "output_type": "display_data"
    },
    {
     "data": {
      "application/vnd.jupyter.widget-view+json": {
       "model_id": "c56512eb0799403884a8a5a35e96a536",
       "version_major": 2,
       "version_minor": 0
      },
      "text/plain": [
       "S1BB_20210107T162005_20210119T162004_VVP012_INT80_G_ueF_7A0B.zip:   0%|          | 0/224189637 [00:00<?, ?it/s…"
      ]
     },
     "metadata": {},
     "output_type": "display_data"
    },
    {
     "data": {
      "application/vnd.jupyter.widget-view+json": {
       "model_id": "632b1976c3cc491c8d00da27cda76060",
       "version_major": 2,
       "version_minor": 0
      },
      "text/plain": [
       "S1BB_20210224T162004_20210308T162004_VVP012_INT80_G_ueF_B3DF.zip:   0%|          | 0/223586888 [00:00<?, ?it/s…"
      ]
     },
     "metadata": {},
     "output_type": "display_data"
    },
    {
     "data": {
      "application/vnd.jupyter.widget-view+json": {
       "model_id": "c1adf53748784000b962d1e34d72f49b",
       "version_major": 2,
       "version_minor": 0
      },
      "text/plain": [
       "S1AB_20210206T162041_20210212T162004_VVP006_INT80_G_ueF_1E2F.zip:   0%|          | 0/180197873 [00:00<?, ?it/s…"
      ]
     },
     "metadata": {},
     "output_type": "display_data"
    },
    {
     "data": {
      "application/vnd.jupyter.widget-view+json": {
       "model_id": "52770dbf8d514e89a4c5ed2912bec3d4",
       "version_major": 2,
       "version_minor": 0
      },
      "text/plain": [
       "S1AB_20210125T162042_20210131T162004_VVP006_INT80_G_ueF_A54A.zip:   0%|          | 0/180149702 [00:00<?, ?it/s…"
      ]
     },
     "metadata": {},
     "output_type": "display_data"
    },
    {
     "data": {
      "application/vnd.jupyter.widget-view+json": {
       "model_id": "6a89220fc230436da07449e4d6940400",
       "version_major": 2,
       "version_minor": 0
      },
      "text/plain": [
       "S1AB_20210113T162042_20210119T162004_VVP006_INT80_G_ueF_F133.zip:   0%|          | 0/179869032 [00:00<?, ?it/s…"
      ]
     },
     "metadata": {},
     "output_type": "display_data"
    },
    {
     "data": {
      "application/vnd.jupyter.widget-view+json": {
       "model_id": "8311ba2285d04dc5bfb65581a1441e74",
       "version_major": 2,
       "version_minor": 0
      },
      "text/plain": [
       "S1BA_20210119T162004_20210125T162042_VVP006_INT80_G_ueF_B6DC.zip:   0%|          | 0/180176604 [00:00<?, ?it/s…"
      ]
     },
     "metadata": {},
     "output_type": "display_data"
    },
    {
     "data": {
      "application/vnd.jupyter.widget-view+json": {
       "model_id": "9ae4eef58f8e4de09eb0d2a65c2a49e2",
       "version_major": 2,
       "version_minor": 0
      },
      "text/plain": [
       "S1BB_20210119T162004_20210131T162004_VVP012_INT80_G_ueF_8593.zip:   0%|          | 0/224311515 [00:00<?, ?it/s…"
      ]
     },
     "metadata": {},
     "output_type": "display_data"
    },
    {
     "data": {
      "application/vnd.jupyter.widget-view+json": {
       "model_id": "974edb076ccc4f0c8277f59bfcfffbbd",
       "version_major": 2,
       "version_minor": 0
      },
      "text/plain": [
       "S1AA_20210101T162043_20210113T162042_VVP012_INT80_G_ueF_FAAE.zip:   0%|          | 0/216017683 [00:00<?, ?it/s…"
      ]
     },
     "metadata": {},
     "output_type": "display_data"
    },
    {
     "data": {
      "application/vnd.jupyter.widget-view+json": {
       "model_id": "78ea3d0048d2455e8f0d8ba376d94082",
       "version_major": 2,
       "version_minor": 0
      },
      "text/plain": [
       "S1AA_20210113T162042_20210125T162042_VVP012_INT80_G_ueF_BD13.zip:   0%|          | 0/214444804 [00:00<?, ?it/s…"
      ]
     },
     "metadata": {},
     "output_type": "display_data"
    },
    {
     "name": "stdout",
     "output_type": "stream",
     "text": [
      "Extracting: /home/jovyan/notebooks/SAR_Training/English/Master/EasternCongoVolcano2021/S1AB_20211203T162049_20211209T162012_VVP006_INT80_G_ueF_74BE.zip\n",
      "Extracting: /home/jovyan/notebooks/SAR_Training/English/Master/EasternCongoVolcano2021/S1AA_20211215T162049_20211227T162048_VVP012_INT80_G_ueF_B5C3.zip\n",
      "Extracting: /home/jovyan/notebooks/SAR_Training/English/Master/EasternCongoVolcano2021/S1AB_20211028T162050_20211103T162013_VVP006_INT80_G_ueF_A9ED.zip\n",
      "Extracting: /home/jovyan/notebooks/SAR_Training/English/Master/EasternCongoVolcano2021/S1BA_20211221T162011_20211227T162048_VVP006_INT80_G_ueF_C5D9.zip\n",
      "Extracting: /home/jovyan/notebooks/SAR_Training/English/Master/EasternCongoVolcano2021/S1AA_20211203T162049_20211215T162049_VVP012_INT80_G_ueF_F751.zip\n",
      "Extracting: /home/jovyan/notebooks/SAR_Training/English/Master/EasternCongoVolcano2021/S1AA_20211109T162050_20211121T162050_VVP012_INT80_G_ueF_C0B6.zip\n",
      "Extracting: /home/jovyan/notebooks/SAR_Training/English/Master/EasternCongoVolcano2021/S1AB_20211121T162050_20211127T162012_VVP006_INT80_G_ueF_A026.zip\n",
      "Extracting: /home/jovyan/notebooks/SAR_Training/English/Master/EasternCongoVolcano2021/S1BB_20211209T162012_20211221T162011_VVP012_INT80_G_ueF_8C0A.zip\n",
      "Extracting: /home/jovyan/notebooks/SAR_Training/English/Master/EasternCongoVolcano2021/S1BB_20211115T162013_20211127T162012_VVP012_INT80_G_ueF_9A49.zip\n",
      "Extracting: /home/jovyan/notebooks/SAR_Training/English/Master/EasternCongoVolcano2021/S1BA_20211103T162013_20211109T162050_VVP006_INT80_G_ueF_524D.zip\n",
      "Extracting: /home/jovyan/notebooks/SAR_Training/English/Master/EasternCongoVolcano2021/S1BB_20211127T162012_20211209T162012_VVP012_INT80_G_ueF_F3DC.zip\n",
      "Extracting: /home/jovyan/notebooks/SAR_Training/English/Master/EasternCongoVolcano2021/S1AB_20211215T162049_20211221T162011_VVP006_INT80_G_ueF_F2A4.zip\n",
      "Extracting: /home/jovyan/notebooks/SAR_Training/English/Master/EasternCongoVolcano2021/S1AB_20211109T162050_20211115T162013_VVP006_INT80_G_ueF_1989.zip\n",
      "Extracting: /home/jovyan/notebooks/SAR_Training/English/Master/EasternCongoVolcano2021/S1BA_20211115T162013_20211121T162050_VVP006_INT80_G_ueF_C325.zip\n",
      "Extracting: /home/jovyan/notebooks/SAR_Training/English/Master/EasternCongoVolcano2021/S1AA_20211028T162050_20211109T162050_VVP012_INT80_G_ueF_DF04.zip\n",
      "Extracting: /home/jovyan/notebooks/SAR_Training/English/Master/EasternCongoVolcano2021/S1BB_20211103T162013_20211115T162013_VVP012_INT80_G_ueF_9CF1.zip\n",
      "Extracting: /home/jovyan/notebooks/SAR_Training/English/Master/EasternCongoVolcano2021/S1BA_20211127T162012_20211203T162049_VVP006_INT80_G_ueF_8845.zip\n",
      "Extracting: /home/jovyan/notebooks/SAR_Training/English/Master/EasternCongoVolcano2021/S1AA_20211121T162050_20211203T162049_VVP012_INT80_G_ueF_5EE1.zip\n",
      "Extracting: /home/jovyan/notebooks/SAR_Training/English/Master/EasternCongoVolcano2021/S1BA_20211209T162012_20211215T162049_VVP006_INT80_G_ueF_3421.zip\n",
      "Extracting: /home/jovyan/notebooks/SAR_Training/English/Master/EasternCongoVolcano2021/S1AA_20210922T162050_20211004T162050_VVP012_INT80_G_ueF_324D.zip\n",
      "Extracting: /home/jovyan/notebooks/SAR_Training/English/Master/EasternCongoVolcano2021/S1AB_20210829T162049_20210904T162012_VVP006_INT80_G_ueF_FACA.zip\n",
      "Extracting: /home/jovyan/notebooks/SAR_Training/English/Master/EasternCongoVolcano2021/S1BA_20211010T162013_20211016T162051_VVP006_INT80_G_ueF_6A6B.zip\n",
      "Extracting: /home/jovyan/notebooks/SAR_Training/English/Master/EasternCongoVolcano2021/S1AA_20211016T162051_20211028T162050_VVP012_INT80_G_ueF_9718.zip\n",
      "Extracting: /home/jovyan/notebooks/SAR_Training/English/Master/EasternCongoVolcano2021/S1BA_20210904T162012_20210910T162050_VVP006_INT80_G_ueF_CDF0.zip\n",
      "Extracting: /home/jovyan/notebooks/SAR_Training/English/Master/EasternCongoVolcano2021/S1AA_20210910T162050_20210922T162050_VVP012_INT80_G_ueF_A940.zip\n",
      "Extracting: /home/jovyan/notebooks/SAR_Training/English/Master/EasternCongoVolcano2021/S1BB_20210904T162012_20210916T162013_VVP012_INT80_G_ueF_3E04.zip\n",
      "Extracting: /home/jovyan/notebooks/SAR_Training/English/Master/EasternCongoVolcano2021/S1BA_20210928T162013_20211004T162050_VVP006_INT80_G_ueF_1588.zip\n",
      "Extracting: /home/jovyan/notebooks/SAR_Training/English/Master/EasternCongoVolcano2021/S1AB_20211016T162051_20211022T162013_VVP006_INT80_G_ueF_4D58.zip\n",
      "Extracting: /home/jovyan/notebooks/SAR_Training/English/Master/EasternCongoVolcano2021/S1BB_20210928T162013_20211010T162013_VVP012_INT80_G_ueF_71B1.zip\n",
      "Extracting: /home/jovyan/notebooks/SAR_Training/English/Master/EasternCongoVolcano2021/S1AA_20211004T162050_20211016T162051_VVP012_INT80_G_ueF_529D.zip\n",
      "Extracting: /home/jovyan/notebooks/SAR_Training/English/Master/EasternCongoVolcano2021/S1BA_20211022T162013_20211028T162050_VVP006_INT80_G_ueF_29D7.zip\n",
      "Extracting: /home/jovyan/notebooks/SAR_Training/English/Master/EasternCongoVolcano2021/S1BB_20211022T162013_20211103T162013_VVP012_INT80_G_ueF_985D.zip\n",
      "Extracting: /home/jovyan/notebooks/SAR_Training/English/Master/EasternCongoVolcano2021/S1BB_20210916T162013_20210928T162013_VVP012_INT80_G_ueF_F67D.zip\n",
      "Extracting: /home/jovyan/notebooks/SAR_Training/English/Master/EasternCongoVolcano2021/S1AB_20210922T162050_20210928T162013_VVP006_INT80_G_ueF_76C3.zip\n",
      "Extracting: /home/jovyan/notebooks/SAR_Training/English/Master/EasternCongoVolcano2021/S1BB_20211010T162013_20211022T162013_VVP012_INT80_G_ueF_D4D5.zip\n",
      "Extracting: /home/jovyan/notebooks/SAR_Training/English/Master/EasternCongoVolcano2021/S1AB_20211004T162050_20211010T162013_VVP006_INT80_G_ueF_AA2A.zip\n",
      "Extracting: /home/jovyan/notebooks/SAR_Training/English/Master/EasternCongoVolcano2021/S1BA_20210916T162013_20210922T162050_VVP006_INT80_G_ueF_E85A.zip\n",
      "Extracting: /home/jovyan/notebooks/SAR_Training/English/Master/EasternCongoVolcano2021/S1AA_20210829T162049_20210910T162050_VVP012_INT80_G_ueF_59F5.zip\n",
      "Extracting: /home/jovyan/notebooks/SAR_Training/English/Master/EasternCongoVolcano2021/S1AB_20210910T162050_20210916T162013_VVP006_INT80_G_ueF_FFBD.zip\n",
      "Extracting: /home/jovyan/notebooks/SAR_Training/English/Master/EasternCongoVolcano2021/S1AA_20210630T162046_20210712T162047_VVP012_INT80_G_ueF_2136.zip\n",
      "Extracting: /home/jovyan/notebooks/SAR_Training/English/Master/EasternCongoVolcano2021/S1BA_20210706T162009_20210712T162047_VVP006_INT80_G_ueF_B4A4.zip\n",
      "Extracting: /home/jovyan/notebooks/SAR_Training/English/Master/EasternCongoVolcano2021/S1BB_20210706T162009_20210718T162010_VVP012_INT80_G_ueF_D1D5.zip\n",
      "Extracting: /home/jovyan/notebooks/SAR_Training/English/Master/EasternCongoVolcano2021/S1AA_20210805T162048_20210817T162049_VVP012_INT80_G_ueF_1193.zip\n",
      "Extracting: /home/jovyan/notebooks/SAR_Training/English/Master/EasternCongoVolcano2021/S1BA_20210823T162012_20210829T162049_VVP006_INT80_G_ueF_C9E8.zip\n",
      "Extracting: /home/jovyan/notebooks/SAR_Training/English/Master/EasternCongoVolcano2021/S1BA_20210811T162011_20210817T162049_VVP006_INT80_G_ueF_A073.zip\n",
      "Extracting: /home/jovyan/notebooks/SAR_Training/English/Master/EasternCongoVolcano2021/S1AA_20210712T162047_20210724T162047_VVP012_INT80_G_ueF_8DCE.zip\n",
      "Extracting: /home/jovyan/notebooks/SAR_Training/English/Master/EasternCongoVolcano2021/S1BB_20210718T162010_20210730T162010_VVP012_INT80_G_ueF_D35F.zip\n",
      "Extracting: /home/jovyan/notebooks/SAR_Training/English/Master/EasternCongoVolcano2021/S1BB_20210730T162010_20210811T162011_VVP012_INT80_G_ueF_952A.zip\n",
      "Extracting: /home/jovyan/notebooks/SAR_Training/English/Master/EasternCongoVolcano2021/S1AB_20210712T162047_20210718T162010_VVP006_INT80_G_ueF_3D3B.zip\n",
      "Extracting: /home/jovyan/notebooks/SAR_Training/English/Master/EasternCongoVolcano2021/S1AB_20210630T162046_20210706T162009_VVP006_INT80_G_ueF_EDFA.zip\n",
      "Extracting: /home/jovyan/notebooks/SAR_Training/English/Master/EasternCongoVolcano2021/S1BA_20210730T162010_20210805T162048_VVP006_INT80_G_ueF_1BCA.zip\n",
      "Extracting: /home/jovyan/notebooks/SAR_Training/English/Master/EasternCongoVolcano2021/S1AB_20210817T162049_20210823T162012_VVP006_INT80_G_ueF_AB6F.zip\n",
      "Extracting: /home/jovyan/notebooks/SAR_Training/English/Master/EasternCongoVolcano2021/S1AA_20210817T162049_20210829T162049_VVP012_INT80_G_ueF_4140.zip\n",
      "Extracting: /home/jovyan/notebooks/SAR_Training/English/Master/EasternCongoVolcano2021/S1BA_20210718T162010_20210724T162047_VVP006_INT80_G_ueF_4CAD.zip\n",
      "Extracting: /home/jovyan/notebooks/SAR_Training/English/Master/EasternCongoVolcano2021/S1BB_20210823T162012_20210904T162012_VVP012_INT80_G_ueF_E546.zip\n",
      "Extracting: /home/jovyan/notebooks/SAR_Training/English/Master/EasternCongoVolcano2021/S1AA_20210724T162047_20210805T162048_VVP012_INT80_G_ueF_1D77.zip\n",
      "Extracting: /home/jovyan/notebooks/SAR_Training/English/Master/EasternCongoVolcano2021/S1BB_20210811T162011_20210823T162012_VVP012_INT80_G_ueF_CCF4.zip\n",
      "Extracting: /home/jovyan/notebooks/SAR_Training/English/Master/EasternCongoVolcano2021/S1AB_20210724T162047_20210730T162010_VVP006_INT80_G_ueF_67C1.zip\n",
      "Extracting: /home/jovyan/notebooks/SAR_Training/English/Master/EasternCongoVolcano2021/S1AB_20210805T162048_20210811T162011_VVP006_INT80_G_ueF_DD8B.zip\n",
      "Extracting: /home/jovyan/notebooks/SAR_Training/English/Master/EasternCongoVolcano2021/S1BB_20210624T162008_20210706T162009_VVP012_INT80_G_ueF_6517.zip\n",
      "Extracting: /home/jovyan/notebooks/SAR_Training/English/Master/EasternCongoVolcano2021/S1BB_20210507T162005_20210519T162006_VVP012_INT80_G_ueF_4520.zip\n",
      "Extracting: /home/jovyan/notebooks/SAR_Training/English/Master/EasternCongoVolcano2021/S1AA_20210618T162045_20210630T162046_VVP012_INT80_G_ueF_0AE5.zip\n",
      "Extracting: /home/jovyan/notebooks/SAR_Training/English/Master/EasternCongoVolcano2021/S1BA_20210519T162006_20210525T162044_VVP006_INT80_G_ueF_5011.zip\n",
      "Extracting: /home/jovyan/notebooks/SAR_Training/English/Master/EasternCongoVolcano2021/S1BB_20210612T162008_20210624T162008_VVP012_INT80_G_ueF_6BE1.zip\n",
      "Extracting: /home/jovyan/notebooks/SAR_Training/English/Master/EasternCongoVolcano2021/S1BA_20210531T162007_20210606T162044_VVP006_INT80_G_ueF_7927.zip\n",
      "Extracting: /home/jovyan/notebooks/SAR_Training/English/Master/EasternCongoVolcano2021/S1AA_20210525T162044_20210606T162044_VVP012_INT80_G_ueF_C4B8.zip\n",
      "Extracting: /home/jovyan/notebooks/SAR_Training/English/Master/EasternCongoVolcano2021/S1BA_20210507T162005_20210513T162043_VVP006_INT80_G_ueF_B6EE.zip\n",
      "Extracting: /home/jovyan/notebooks/SAR_Training/English/Master/EasternCongoVolcano2021/S1BB_20210531T162007_20210612T162008_VVP012_INT80_G_ueF_0ED2.zip\n",
      "Extracting: /home/jovyan/notebooks/SAR_Training/English/Master/EasternCongoVolcano2021/S1AA_20210501T162042_20210513T162043_VVP012_INT80_G_ueF_C90F.zip\n",
      "Extracting: /home/jovyan/notebooks/SAR_Training/English/Master/EasternCongoVolcano2021/S1AB_20210513T162043_20210519T162006_VVP006_INT80_G_ueF_F654.zip\n",
      "Extracting: /home/jovyan/notebooks/SAR_Training/English/Master/EasternCongoVolcano2021/S1AB_20210606T162044_20210612T162008_VVP006_INT80_G_ueF_44BA.zip\n",
      "Extracting: /home/jovyan/notebooks/SAR_Training/English/Master/EasternCongoVolcano2021/S1AA_20210513T162043_20210525T162044_VVP012_INT80_G_ueF_8AC8.zip\n",
      "Extracting: /home/jovyan/notebooks/SAR_Training/English/Master/EasternCongoVolcano2021/S1AA_20210606T162044_20210618T162045_VVP012_INT80_G_ueF_42ED.zip\n",
      "Extracting: /home/jovyan/notebooks/SAR_Training/English/Master/EasternCongoVolcano2021/S1BA_20210612T162008_20210618T162045_VVP006_INT80_G_ueF_742C.zip\n",
      "Extracting: /home/jovyan/notebooks/SAR_Training/English/Master/EasternCongoVolcano2021/S1AB_20210501T162042_20210507T162005_VVP006_INT80_G_ueF_DC97.zip\n",
      "Extracting: /home/jovyan/notebooks/SAR_Training/English/Master/EasternCongoVolcano2021/S1BB_20210519T162006_20210531T162007_VVP012_INT80_G_ueF_9E89.zip\n",
      "Extracting: /home/jovyan/notebooks/SAR_Training/English/Master/EasternCongoVolcano2021/S1AB_20210618T162045_20210624T162008_VVP006_INT80_G_ueF_46E9.zip\n",
      "Extracting: /home/jovyan/notebooks/SAR_Training/English/Master/EasternCongoVolcano2021/S1BA_20210624T162008_20210630T162046_VVP006_INT80_G_ueF_6BF9.zip\n",
      "Extracting: /home/jovyan/notebooks/SAR_Training/English/Master/EasternCongoVolcano2021/S1AB_20210525T162044_20210531T162007_VVP006_INT80_G_ueF_52FE.zip\n",
      "Extracting: /home/jovyan/notebooks/SAR_Training/English/Master/EasternCongoVolcano2021/S1AB_20210419T162042_20210425T162005_VVP006_INT80_G_ueF_D6E8.zip\n",
      "Extracting: /home/jovyan/notebooks/SAR_Training/English/Master/EasternCongoVolcano2021/S1AA_20210407T162041_20210419T162042_VVP012_INT80_G_ueF_1F1E.zip\n",
      "Extracting: /home/jovyan/notebooks/SAR_Training/English/Master/EasternCongoVolcano2021/S1AA_20210326T162041_20210407T162041_VVP012_INT80_G_ueF_1417.zip\n",
      "Extracting: /home/jovyan/notebooks/SAR_Training/English/Master/EasternCongoVolcano2021/S1BA_20210413T162004_20210419T162042_VVP006_INT80_G_ueF_BB5C.zip\n",
      "Extracting: /home/jovyan/notebooks/SAR_Training/English/Master/EasternCongoVolcano2021/S1BA_20210425T162005_20210501T162042_VVP006_INT80_G_ueF_1264.zip\n",
      "Extracting: /home/jovyan/notebooks/SAR_Training/English/Master/EasternCongoVolcano2021/S1AA_20210302T162041_20210314T162041_VVP012_INT80_G_ueF_7BF5.zip\n",
      "Extracting: /home/jovyan/notebooks/SAR_Training/English/Master/EasternCongoVolcano2021/S1AA_20210314T162041_20210326T162041_VVP012_INT80_G_ueF_4D9B.zip\n",
      "Extracting: /home/jovyan/notebooks/SAR_Training/English/Master/EasternCongoVolcano2021/S1BB_20210425T162005_20210507T162005_VVP012_INT80_G_ueF_EED9.zip\n",
      "Extracting: /home/jovyan/notebooks/SAR_Training/English/Master/EasternCongoVolcano2021/S1BB_20210401T162004_20210413T162004_VVP012_INT80_G_ueF_A7B2.zip\n",
      "Extracting: /home/jovyan/notebooks/SAR_Training/English/Master/EasternCongoVolcano2021/S1BA_20210320T162004_20210326T162041_VVP006_INT80_G_ueF_027B.zip\n",
      "Extracting: /home/jovyan/notebooks/SAR_Training/English/Master/EasternCongoVolcano2021/S1AB_20210326T162041_20210401T162004_VVP006_INT80_G_ueF_3E53.zip\n",
      "Extracting: /home/jovyan/notebooks/SAR_Training/English/Master/EasternCongoVolcano2021/S1BA_20210401T162004_20210407T162041_VVP006_INT80_G_ueF_4562.zip\n",
      "Extracting: /home/jovyan/notebooks/SAR_Training/English/Master/EasternCongoVolcano2021/S1BB_20210320T162004_20210401T162004_VVP012_INT80_G_ueF_4569.zip\n",
      "Extracting: /home/jovyan/notebooks/SAR_Training/English/Master/EasternCongoVolcano2021/S1AA_20210419T162042_20210501T162042_VVP012_INT80_G_ueF_8783.zip\n",
      "Extracting: /home/jovyan/notebooks/SAR_Training/English/Master/EasternCongoVolcano2021/S1BA_20210308T162004_20210314T162041_VVP006_INT80_G_ueF_5918.zip\n",
      "Extracting: /home/jovyan/notebooks/SAR_Training/English/Master/EasternCongoVolcano2021/S1AB_20210407T162041_20210413T162004_VVP006_INT80_G_ueF_FB68.zip\n",
      "Extracting: /home/jovyan/notebooks/SAR_Training/English/Master/EasternCongoVolcano2021/S1BB_20210308T162004_20210320T162004_VVP012_INT80_G_ueF_72A3.zip\n",
      "Extracting: /home/jovyan/notebooks/SAR_Training/English/Master/EasternCongoVolcano2021/S1AB_20210314T162041_20210320T162004_VVP006_INT80_G_ueF_68D5.zip\n",
      "Extracting: /home/jovyan/notebooks/SAR_Training/English/Master/EasternCongoVolcano2021/S1BB_20210413T162004_20210425T162005_VVP012_INT80_G_ueF_6DE4.zip\n",
      "Extracting: /home/jovyan/notebooks/SAR_Training/English/Master/EasternCongoVolcano2021/S1AB_20210302T162041_20210308T162004_VVP006_INT80_G_ueF_7EB7.zip\n",
      "Extracting: /home/jovyan/notebooks/SAR_Training/English/Master/EasternCongoVolcano2021/S1BA_20210107T162005_20210113T162042_VVP006_INT80_G_ueF_EE3D.zip\n",
      "Extracting: /home/jovyan/notebooks/SAR_Training/English/Master/EasternCongoVolcano2021/S1BA_20210224T162004_20210302T162041_VVP006_INT80_G_ueF_F103.zip\n",
      "Extracting: /home/jovyan/notebooks/SAR_Training/English/Master/EasternCongoVolcano2021/S1BB_20210131T162004_20210212T162004_VVP012_INT80_G_ueF_4EBF.zip\n",
      "Extracting: /home/jovyan/notebooks/SAR_Training/English/Master/EasternCongoVolcano2021/S1BA_20210131T162004_20210206T162041_VVP006_INT80_G_ueF_6EA8.zip\n",
      "Extracting: /home/jovyan/notebooks/SAR_Training/English/Master/EasternCongoVolcano2021/S1AA_20210206T162041_20210218T162041_VVP012_INT80_G_ueF_0E08.zip\n",
      "Extracting: /home/jovyan/notebooks/SAR_Training/English/Master/EasternCongoVolcano2021/S1AA_20210218T162041_20210302T162041_VVP012_INT80_G_ueF_091D.zip\n",
      "Extracting: /home/jovyan/notebooks/SAR_Training/English/Master/EasternCongoVolcano2021/S1AB_20210218T162041_20210224T162004_VVP006_INT80_G_ueF_DA31.zip\n",
      "Extracting: /home/jovyan/notebooks/SAR_Training/English/Master/EasternCongoVolcano2021/S1BA_20210212T162004_20210218T162041_VVP006_INT80_G_ueF_E963.zip\n",
      "Extracting: /home/jovyan/notebooks/SAR_Training/English/Master/EasternCongoVolcano2021/S1BB_20210212T162004_20210224T162004_VVP012_INT80_G_ueF_A71D.zip\n",
      "Extracting: /home/jovyan/notebooks/SAR_Training/English/Master/EasternCongoVolcano2021/S1AB_20210101T162043_20210107T162005_VVP006_INT80_G_ueF_064A.zip\n",
      "Extracting: /home/jovyan/notebooks/SAR_Training/English/Master/EasternCongoVolcano2021/S1AA_20210125T162042_20210206T162041_VVP012_INT80_G_ueF_7F3E.zip\n",
      "Extracting: /home/jovyan/notebooks/SAR_Training/English/Master/EasternCongoVolcano2021/S1BB_20210107T162005_20210119T162004_VVP012_INT80_G_ueF_7A0B.zip\n",
      "Extracting: /home/jovyan/notebooks/SAR_Training/English/Master/EasternCongoVolcano2021/S1BB_20210224T162004_20210308T162004_VVP012_INT80_G_ueF_B3DF.zip\n",
      "Extracting: /home/jovyan/notebooks/SAR_Training/English/Master/EasternCongoVolcano2021/S1AB_20210206T162041_20210212T162004_VVP006_INT80_G_ueF_1E2F.zip\n",
      "Extracting: /home/jovyan/notebooks/SAR_Training/English/Master/EasternCongoVolcano2021/S1AB_20210125T162042_20210131T162004_VVP006_INT80_G_ueF_A54A.zip\n",
      "Extracting: /home/jovyan/notebooks/SAR_Training/English/Master/EasternCongoVolcano2021/S1AB_20210113T162042_20210119T162004_VVP006_INT80_G_ueF_F133.zip\n",
      "Extracting: /home/jovyan/notebooks/SAR_Training/English/Master/EasternCongoVolcano2021/S1BA_20210119T162004_20210125T162042_VVP006_INT80_G_ueF_B6DC.zip\n",
      "Extracting: /home/jovyan/notebooks/SAR_Training/English/Master/EasternCongoVolcano2021/S1BB_20210119T162004_20210131T162004_VVP012_INT80_G_ueF_8593.zip\n",
      "Extracting: /home/jovyan/notebooks/SAR_Training/English/Master/EasternCongoVolcano2021/S1AA_20210101T162043_20210113T162042_VVP012_INT80_G_ueF_FAAE.zip\n",
      "Extracting: /home/jovyan/notebooks/SAR_Training/English/Master/EasternCongoVolcano2021/S1AA_20210113T162042_20210125T162042_VVP012_INT80_G_ueF_BD13.zip\n"
     ]
    }
   ],
   "source": [
    "print(f\"\\nProject: {jobs.jobs[0].name}\")\n",
    "project_zips = jobs.download_files(analysis_directory)\n",
    "for z in project_zips:\n",
    "    asfn.asf_unzip(str(analysis_directory), str(z))\n",
    "    z.unlink()"
   ]
  },
  {
   "cell_type": "markdown",
   "metadata": {},
   "source": [
    "# 2. Confirm Presence of a DEM, Azimuth Angle Map, and Incidence Angle Map\n",
    "\n",
    "- These are optional addon products for HyP3, which are necessary for MintPy\n",
    "    - Incidence angle maps are included with HyP3 jobs when the `Include Look Vectors` option is selected.\n",
    "    - DEMs are included with HyP3 jobs when the `Include DEM` option is selected\n",
    "- This is an optional addon product for HyP3, which is necessary for MintPy if running the correct_SET (Solid Earth Tides) step\n",
    "    - Azimuth angle maps are included with HyP3 jobs when the `Include Look Vectors` option is selected\n",
    "\n",
    "**All of the above mentioned files will be included in an InSAR project if Set MintPy Options is selected when adding InSAR jobs to a project in ASF-Search (Vertex)**"
   ]
  },
  {
   "cell_type": "code",
   "execution_count": 41,
   "metadata": {},
   "outputs": [
    {
     "name": "stdout",
     "output_type": "stream",
     "text": [
      "Success: Found at least 1 DEM.\n",
      "Success: Found at least 1 Azimuth Angle Map.\n",
      "Success: Found at least 1 Incidence Angle Map.\n"
     ]
    }
   ],
   "source": [
    "dems = list(analysis_directory.glob('*/*dem*.tif'))\n",
    "az_angle_maps = list(analysis_directory.glob('*/*lv_phi*.tif'))\n",
    "inc_angle_maps = list(analysis_directory.glob('*/*lv_theta*.tif'))\n",
    "\n",
    "if len(dems) > 0:\n",
    "    print(\"Success: Found at least 1 DEM.\")\n",
    "else:\n",
    "    raise FileNotFoundError(\"Failed to find at least 1 DEM. \\\n",
    "    \\nYou will not be able to successfully run a MintPy time-series unless you reorder your HyP3 project \\\n",
    "with DEMS or provide one from another source.\")\n",
    "    \n",
    "if len(az_angle_maps) > 0:\n",
    "    print(\"Success: Found at least 1 Azimuth Angle Map.\")\n",
    "else:\n",
    "    raise FileNotFoundError(\"Failed to find at least 1 Azimuth Angle Map. \\\n",
    "    \\nYou will not be able to successfully run a MintPy time-series unless your reorder your HyP3 project \\\n",
    "with 'Include Look Vectors' option selected.\")\n",
    "    \n",
    "if len(inc_angle_maps) > 0:\n",
    "    print(\"Success: Found at least 1 Incidence Angle Map.\")\n",
    "else:\n",
    "    raise FileNotFoundError(\"Failed to find at least 1 Incidence Angle Map. \\\n",
    "    \\nYou will not be able to successfully run a MintPy time-series unless your reorder your HyP3 project \\\n",
    "with 'Include Inc. Angle Map' option selected.\")"
   ]
  },
  {
   "cell_type": "markdown",
   "metadata": {},
   "source": [
    "# 3. Subset the Stack and Cleanup Unused Files\n",
    "\n",
    "**Delete unneeded files:**"
   ]
  },
  {
   "cell_type": "code",
   "execution_count": 42,
   "metadata": {},
   "outputs": [],
   "source": [
    "for pattern in [\"xml\",\"png\",\"kmz\",\"md.txt\"]:\n",
    "    unneeded_files = analysis_directory.glob(f\"*/*.{pattern}\")\n",
    "    for file in unneeded_files:\n",
    "        file.unlink()"
   ]
  },
  {
   "cell_type": "markdown",
   "metadata": {},
   "source": [
    "**Project all tiffs to Predominant UTM**"
   ]
  },
  {
   "cell_type": "code",
   "execution_count": 43,
   "metadata": {},
   "outputs": [],
   "source": [
    "from typing import List, Union, Dict\n",
    "from collections import Counter\n",
    "\n",
    "def get_projection(img_path: Union[Path, str]) -> Union[str, None]:\n",
    "    \"\"\"\n",
    "    Takes: a string or posix path to a product in a UTM projection\n",
    "\n",
    "    Returns: the projection (as a string) or None if none found\n",
    "    \"\"\"\n",
    "    img_path = str(img_path)\n",
    "    try:\n",
    "        info = gdal.Info(img_path, format='json')['coordinateSystem']['wkt']\n",
    "    except KeyError:\n",
    "        return None\n",
    "    except TypeError:\n",
    "        raise FileNotFoundError\n",
    "\n",
    "    regex = 'ID\\[\"EPSG\",[0-9]{4,5}\\]\\]$'\n",
    "    results = re.search(regex, info)\n",
    "    if results:\n",
    "        return results.group(0).split(',')[1][:-2]\n",
    "    else:\n",
    "        return None\n",
    "\n",
    "def get_projections(tiff_paths: List[Union[Path, str]]) -> Dict:\n",
    "    \"\"\"\n",
    "    Takes: List of string or posix paths to geotiffs\n",
    "    \n",
    "    Returns: Dictionary key: epsg, value: number of tiffs in that epsg \n",
    "    \"\"\"\n",
    "    epsgs = []\n",
    "    for p in tiff_paths:\n",
    "        epsgs.append(get_projection(p))\n",
    "\n",
    "    epsgs = dict(Counter(epsgs))\n",
    "    return epsgs\n",
    "\n",
    "def get_res(tiff):\n",
    "    tiff = str(tiff)\n",
    "    f =  gdal.Open(tiff)\n",
    "    return f.GetGeoTransform()[1] \n",
    "\n",
    "def get_no_data_val(pth):\n",
    "    pth = str(pth)\n",
    "    f = gdal.Open(str(pth))\n",
    "    if f.GetRasterBand(1).DataType > 5:\n",
    "        no_data_val = f.GetRasterBand(1).GetNoDataValue()\n",
    "        return np.nan if no_data_val == None else f.GetRasterBand(1).GetNoDataValue()\n",
    "    else:\n",
    "        return 0"
   ]
  },
  {
   "cell_type": "code",
   "execution_count": 44,
   "metadata": {},
   "outputs": [],
   "source": [
    "fnames = list(analysis_directory.glob('*/*.tif'))\n",
    "fnames.sort()\n",
    "epsgs = get_projections(fnames)\n",
    "predominant_epsg = None if len(epsgs) == 1 else max(epsgs, key=epsgs.get)\n",
    "\n",
    "if predominant_epsg:\n",
    "    for pth in fnames:\n",
    "        src_SRS = get_projection(str(pth))\n",
    "        res = get_res(pth)\n",
    "        if src_SRS != predominant_epsg:\n",
    "            res = get_res(pth)\n",
    "            no_data_val = get_no_data_val(pth)\n",
    "    \n",
    "            temp = pth.parent/f\"temp_{pth.stem}.tif\"\n",
    "            pth.rename(temp)\n",
    "\n",
    "            warp_options = {\n",
    "                \"dstSRS\":f\"EPSG:{predominant_epsg}\", \"srcSRS\":f\"EPSG:{src_SRS}\",\n",
    "                \"targetAlignedPixels\":True,\n",
    "                \"xRes\":res, \"yRes\":res,\n",
    "                \"dstNodata\": no_data_val\n",
    "            }\n",
    "            gdal.Warp(str(pth), str(temp), **warp_options)\n",
    "            temp.unlink()"
   ]
  },
  {
   "cell_type": "markdown",
   "metadata": {
    "hideOutput": true
   },
   "source": [
    "**Determine the maximum and common extents of the stack and plot an Area-of_Interest Selector:**"
   ]
  },
  {
   "cell_type": "code",
   "execution_count": 53,
   "metadata": {},
   "outputs": [
    {
     "name": "stdout",
     "output_type": "stream",
     "text": [
      "[3251541.9270227742, -172864.0046467746, 3264455.867378772, -161791.10691822862]\n",
      "[3251541.9270227742, -172864.0046467746, 3264455.867378772, -161791.10691822862]\n"
     ]
    },
    {
     "data": {
      "application/vnd.jupyter.widget-view+json": {
       "model_id": "d1dd27c4212c4c09a83994afa7640bff",
       "version_major": 2,
       "version_minor": 0
      },
      "image/png": "[encoded data removed]",
      "text/html": [
       "\n",
       "            <div style=\"display: inline-block;\">\n",
       "                <div class=\"jupyter-widgets widget-label\" style=\"text-align: center;\">\n",
       "                    Figure\n",
       "                </div>\n",
       "                <img src='data:image/png;base64,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' width=2000.0/>\n",
       "            </div>\n",
       "        "
      ],
      "text/plain": [
       "Canvas(toolbar=Toolbar(toolitems=[('Home', 'Reset original view', 'home', 'home'), ('Back', 'Back to previous …"
      ]
     },
     "metadata": {},
     "output_type": "display_data"
    }
   ],
   "source": [
    "amp = list(analysis_directory.glob(f'*/*_amp*.tif'))\n",
    "max_extents = asfn.get_max_extents(amp)\n",
    "xmin, ymin, xmax, ymax = transform_bounds(int(asfn.get_projection(str(amp[0]))), 3857, *max_extents)\n",
    "max_extents = [xmin, ymin, xmax, ymax]\n",
    "\n",
    "common_extents = asfn.get_common_coverage_extents(amp)\n",
    "xmin, ymin, xmax, ymax = transform_bounds(int(asfn.get_projection(str(amp[0]))), 3857, *common_extents)\n",
    "common_extents = [xmin, ymin, xmax, ymax]\n",
    "\n",
    "print(max_extents)\n",
    "print(common_extents)\n",
    "\n",
    "aoi = asfn.AOI_Selector(max_extents, common_extents, figsize=(20, 16))"
   ]
  },
  {
   "cell_type": "markdown",
   "metadata": {},
   "source": [
    "**Convert the subset corner coordinates from Web-Mercator back to the input data's EPSG:** "
   ]
  },
  {
   "cell_type": "code",
   "execution_count": 54,
   "metadata": {},
   "outputs": [
    {
     "name": "stdout",
     "output_type": "stream",
     "text": [
      "AOI Corner Coordinates:\n",
      "upper left corner: [29.198294888882206, -1.4438167341107973]\n",
      "lower right corner: [29.335194677542862, -1.562170560225787]\n"
     ]
    }
   ],
   "source": [
    "try:\n",
    "    xmin, ymin, xmax, ymax = transform_bounds(3857, \n",
    "                                          int(asfn.get_projection(str(amp[0]))), \n",
    "                                          *[aoi.x1, aoi.y1, aoi.x2, aoi.y2])\n",
    "    ul = [xmin, ymax]\n",
    "    lr = [xmax, ymin]\n",
    "    print(f\"AOI Corner Coordinates:\")\n",
    "    print(f\"upper left corner: {ul}\")\n",
    "    print(f\"lower right corner: {lr}\")\n",
    "except TypeError:\n",
    "    print('TypeError')\n",
    "    display(Markdown(f'<text style=color:red>This error may occur if an AOI was not selected.</text>'))\n",
    "    display(Markdown(f'<text style=color:red>Note that the square tool icon in the AOI selector menu is <b>NOT</b> the selection tool. It is the zoom tool.</text>'))"
   ]
  },
  {
   "cell_type": "markdown",
   "metadata": {},
   "source": [
    "**Crop the stack to the AOI and reproject to lat-lon:**"
   ]
  },
  {
   "cell_type": "code",
   "execution_count": 55,
   "metadata": {},
   "outputs": [],
   "source": [
    "fnames = list(analysis_directory.glob('*/*.tif'))\n",
    "fnames.sort()\n",
    "\n",
    "for i, fname in enumerate(fnames):\n",
    "    clip = fname.parent/f\"{fname.stem}_clip.tif\"\n",
    "    gdal.Translate(destName=str(clip), srcDS=str(fname), projWin=[ul[0], ul[1], lr[0], lr[1]])\n",
    "    gdal.Warp(str(clip), str(clip), dstSRS='EPSG:4326', dstNodata=0)\n",
    "    fname.unlink() "
   ]
  },
  {
   "cell_type": "markdown",
   "metadata": {},
   "source": [
    "**Remove any subset scenes containing no data:**"
   ]
  },
  {
   "cell_type": "code",
   "execution_count": 56,
   "metadata": {},
   "outputs": [
    {
     "name": "stdout",
     "output_type": "stream",
     "text": [
      "No Geotiffs were removed\n"
     ]
    }
   ],
   "source": [
    "fnames = list(analysis_directory.glob('*/*.tif'))\n",
    "fnames = [str(f) for f in fnames]\n",
    "fnames.sort()\n",
    "\n",
    "removed = []\n",
    "for f in fnames:\n",
    "    if not \"dem\" in str(f):\n",
    "        raster = gdal.Open(f)\n",
    "        if raster:\n",
    "            band = raster.ReadAsArray()\n",
    "            if np.count_nonzero(band) < 1:\n",
    "                Path(f).unlink()\n",
    "                removed.append(f)\n",
    "\n",
    "if len(removed) == 0:\n",
    "    print(\"No Geotiffs were removed\")\n",
    "else:\n",
    "    print(f\"{len(removed)} GeoTiffs removed:\")\n",
    "    for f in removed:\n",
    "        print(f)"
   ]
  },
  {
   "cell_type": "markdown",
   "metadata": {
    "tags": []
   },
   "source": [
    "# 4. Proceed to the MintPy Time-Series Notebook\n",
    "\n",
    "**Run the code cell below for a link to the MintPy_Time_Series_From_Prepared_Data_Stack notebook:**"
   ]
  },
  {
   "cell_type": "markdown",
   "metadata": {},
   "source": [
    "Describe what each notebook does in bottom links"
   ]
  },
  {
   "cell_type": "code",
   "execution_count": 57,
   "metadata": {},
   "outputs": [
    {
     "data": {
      "text/html": [
       "Open <a href='MintPy_Time_Series_From_Prepared_Data_Stack.ipynb'>MintPy_Time_Series_From_Prepared_Data_Stack.ipynb</a> to run an InSAR time-series analysis on your data using MintPy"
      ],
      "text/plain": [
       "<IPython.core.display.HTML object>"
      ]
     },
     "metadata": {},
     "output_type": "display_data"
    }
   ],
   "source": [
    "# from pathlib import Path\n",
    "from IPython.display import display, HTML\n",
    "\n",
    "current = Path.cwd()\n",
    "abs_path = current/\"MintPy_Time_Series_From_Prepared_Data_Stack.ipynb\"\n",
    "relative_path = abs_path.relative_to(current)    \n",
    "\n",
    "link_t = f\"Open <a href='{relative_path}'>MintPy_Time_Series_From_Prepared_Data_Stack.ipynb</a> to run an InSAR time-series analysis on your data using MintPy\"\n",
    "html = HTML(link_t)\n",
    "display(html)"
   ]
  },
  {
   "cell_type": "markdown",
   "metadata": {},
   "source": [
    "*Prepare_HyP3_InSAR_Stack_for_MintPy.ipynb - Version 1.2.4 - October 2024*\n",
    "   \n",
    "*Version Changes*\n",
    "\n",
    "- *Don't project to lat/lon after subsetting. MintPy now handles projection.*"
   ]
  }
 ],
 "metadata": {
  "kernelspec": {
   "display_name": "Python [conda env:.local-osl_mintpy]",
   "language": "python",
   "name": "conda-env-.local-osl_mintpy-py"
  },
  "language_info": {
   "codemirror_mode": {
    "name": "ipython",
    "version": 3
   },
   "file_extension": ".py",
   "mimetype": "text/x-python",
   "name": "python",
   "nbconvert_exporter": "python",
   "pygments_lexer": "ipython3",
   "version": "3.9.0"
  }
 },
 "nbformat": 4,
 "nbformat_minor": 4
}
